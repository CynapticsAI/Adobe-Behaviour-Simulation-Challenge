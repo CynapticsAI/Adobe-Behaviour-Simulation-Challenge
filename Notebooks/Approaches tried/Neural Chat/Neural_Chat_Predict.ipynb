{
  "cells": [
    {
      "cell_type": "code",
      "execution_count": null,
      "metadata": {
        "colab": {
          "base_uri": "https://localhost:8080/"
        },
        "id": "VZ23EyISY3CJ",
        "outputId": "a731b593-2777-45d5-f016-153444303035"
      },
      "outputs": [
        {
          "name": "stdout",
          "output_type": "stream",
          "text": [
            "Requirement already satisfied: huggingface-hub in /usr/local/lib/python3.10/dist-packages (0.19.4)\n",
            "Requirement already satisfied: filelock in /usr/local/lib/python3.10/dist-packages (from huggingface-hub) (3.13.1)\n",
            "Requirement already satisfied: fsspec>=2023.5.0 in /usr/local/lib/python3.10/dist-packages (from huggingface-hub) (2023.6.0)\n",
            "Requirement already satisfied: requests in /usr/local/lib/python3.10/dist-packages (from huggingface-hub) (2.31.0)\n",
            "Requirement already satisfied: tqdm>=4.42.1 in /usr/local/lib/python3.10/dist-packages (from huggingface-hub) (4.66.1)\n",
            "Requirement already satisfied: pyyaml>=5.1 in /usr/local/lib/python3.10/dist-packages (from huggingface-hub) (6.0.1)\n",
            "Requirement already satisfied: typing-extensions>=3.7.4.3 in /usr/local/lib/python3.10/dist-packages (from huggingface-hub) (4.5.0)\n",
            "Requirement already satisfied: packaging>=20.9 in /usr/local/lib/python3.10/dist-packages (from huggingface-hub) (23.2)\n",
            "Requirement already satisfied: charset-normalizer<4,>=2 in /usr/local/lib/python3.10/dist-packages (from requests->huggingface-hub) (3.3.2)\n",
            "Requirement already satisfied: idna<4,>=2.5 in /usr/local/lib/python3.10/dist-packages (from requests->huggingface-hub) (3.4)\n",
            "Requirement already satisfied: urllib3<3,>=1.21.1 in /usr/local/lib/python3.10/dist-packages (from requests->huggingface-hub) (2.0.7)\n",
            "Requirement already satisfied: certifi>=2017.4.17 in /usr/local/lib/python3.10/dist-packages (from requests->huggingface-hub) (2023.7.22)\n"
          ]
        }
      ],
      "source": [
        "!pip install huggingface-hub"
      ]
    },
    {
      "cell_type": "code",
      "execution_count": null,
      "metadata": {
        "id": "msHhuKHyX1Hg"
      },
      "outputs": [],
      "source": [
        "from huggingface_hub import InferenceClient\n",
        "client = InferenceClient(model=\"https://limcheekin-neural-chat-7b-v3-1-gguf.hf.space/v1/chat/completions\")"
      ]
    },
    {
      "cell_type": "code",
      "execution_count": null,
      "metadata": {
        "id": "5aC2GLhCY-iv"
      },
      "outputs": [],
      "source": [
        "response = client.post(json={\n",
        "  \"messages\": [\n",
        "    {\n",
        "      \"content\": \"Wrtie a tweet for toyota company for a new car theyre releasing\",\n",
        "      \"role\": \"user\"\n",
        "    }\n",
        "  ]\n",
        "})"
      ]
    },
    {
      "cell_type": "code",
      "execution_count": null,
      "metadata": {
        "colab": {
          "base_uri": "https://localhost:8080/"
        },
        "id": "-k6ZkEhGZpZD",
        "outputId": "8d0d06a6-46ee-487f-946c-0c374c67ceb5"
      },
      "outputs": [
        {
          "data": {
            "text/plain": [
              "b'{\"id\":\"chatcmpl-c34d0ac6-bd91-4f9a-8839-b586289d75ff\",\"object\":\"chat.completion\",\"created\":1701418567,\"model\":\"model/gguf-model.bin\",\"choices\":[{\"index\":0,\"message\":{\"content\":\" Exciting times ahead! Toyota\\'s latest innovation brings cutting-edge tech and exceptional performance to your driving experience. Let\\'s hit the road together in style. #ToyotaNewCar #FutureDriving\",\"role\":\"assistant\"},\"finish_reason\":\"stop\"}],\"usage\":{\"prompt_tokens\":35,\"completion_tokens\":45,\"total_tokens\":80}}'"
            ]
          },
          "execution_count": 4,
          "metadata": {},
          "output_type": "execute_result"
        }
      ],
      "source": [
        "response"
      ]
    },
    {
      "cell_type": "code",
      "execution_count": null,
      "metadata": {
        "id": "JiJTu0a_Z6nA"
      },
      "outputs": [],
      "source": [
        "response = client.post(json={\n",
        "  \"messages\":[\n",
        "    {\n",
        "      \"content\": \"Predict the approximate likes for this tweet. Just give me a number, no need of explanantion - Excited to announce the launch of Toyota\\'s innovative, eco-friendly new vehicle. Join us in discovering its remarkable features and exploring limitless possibilities on the road ahead! #ToyotaNewCar #FutureOfMobility.\",\n",
        "      \"role\": \"user\"\n",
        "    }\n",
        "  ]\n",
        "})"
      ]
    },
    {
      "cell_type": "code",
      "execution_count": null,
      "metadata": {
        "colab": {
          "base_uri": "https://localhost:8080/"
        },
        "id": "OJeEZJDpb0pv",
        "outputId": "fec8fb40-a95b-4f30-c8f0-debc1c3efedf"
      },
      "outputs": [
        {
          "data": {
            "text/plain": [
              "b'{\"id\":\"chatcmpl-55aeea04-bd5b-4710-81ca-c31f9758aa0a\",\"object\":\"chat.completion\",\"created\":1701418808,\"model\":\"model/gguf-model.bin\",\"choices\":[{\"index\":0,\"message\":{\"content\":\" \\\\n Around 1000 likes. This estimate is based on the tweet being relevant to a popular car brand, Toyota, discussing a new innovative vehicle with environmentally friendly features. It also mentions engaging hashtags like \\'#ToyotaNewCar\\' and \\'#FutureOfMobility\\', which can potentially attract more interest in the topic.\",\"role\":\"assistant\"},\"finish_reason\":\"stop\"}],\"usage\":{\"prompt_tokens\":93,\"completion_tokens\":74,\"total_tokens\":167}}'"
            ]
          },
          "execution_count": 7,
          "metadata": {},
          "output_type": "execute_result"
        }
      ],
      "source": [
        "response"
      ]
    },
    {
      "cell_type": "code",
      "execution_count": null,
      "metadata": {
        "id": "VcH5zcWLccc3"
      },
      "outputs": [],
      "source": [
        "from huggingface_hub import InferenceClient\n",
        "client = InferenceClient(model=\"https://limcheekin-neural-chat-7b-v3-1-gguf.hf.space/v1/chat/completions\")"
      ]
    },
    {
      "cell_type": "code",
      "execution_count": null,
      "metadata": {
        "id": "-GoRzr3rcp7E"
      },
      "outputs": [],
      "source": [
        "response = client.post(json={\n",
        "  \"messages\":[\n",
        "    {\n",
        "      \"content\": \"Predict the approximate likes for this tweet. Just give me a number, no need of explanantion -Spend your weekend morning with a Ham, Egg, and Cheese Wrap paired with a sweet Iced French Vanilla! ☀ Order yours now via dine-in, takeout, and delivery.\",\n",
        "      \"role\": \"user\"\n",
        "    }\n",
        "  ]\n",
        "})"
      ]
    },
    {
      "cell_type": "code",
      "execution_count": null,
      "metadata": {
        "colab": {
          "base_uri": "https://localhost:8080/"
        },
        "id": "BBxYhzmJezx-",
        "outputId": "113aa8b6-a741-4d63-b2a3-2eb323fde3da"
      },
      "outputs": [
        {
          "data": {
            "text/plain": [
              "b'{\"id\":\"chatcmpl-e7bbc2cf-1f4d-42fb-8623-a84b26bd09dc\",\"object\":\"chat.completion\",\"created\":1701419105,\"model\":\"model/gguf-model.bin\",\"choices\":[{\"index\":0,\"message\":{\"content\":\" Around 100 to 200 likes is the approximate number for this tweet. However, it could vary based on how engaged an audience is with the food content and availability of mentioned services like dine-in, takeout, and delivery. Remember that predictions are not exact figures but a general idea of potential engagement.\",\"role\":\"assistant\"},\"finish_reason\":\"stop\"}],\"usage\":{\"prompt_tokens\":88,\"completion_tokens\":68,\"total_tokens\":156}}'"
            ]
          },
          "execution_count": 9,
          "metadata": {},
          "output_type": "execute_result"
        }
      ],
      "source": [
        "response"
      ]
    },
    {
      "cell_type": "code",
      "execution_count": null,
      "metadata": {
        "id": "6IBXi_oRe1co"
      },
      "outputs": [],
      "source": []
    },
    {
      "cell_type": "code",
      "execution_count": null,
      "metadata": {
        "id": "r_7hX9GFj33p"
      },
      "outputs": [],
      "source": [
        "response = client.post(json={\n",
        "  \"messages\":[\n",
        "    {\n",
        "      \"content\": \"Predict the approximate likes for this tweet. Just give me a number, no need of explanantion -Move over, gin. Distillery moves to producing hand sanitizer to fight COVID-19:\",\n",
        "      \"role\": \"user\"\n",
        "    }\n",
        "  ]\n",
        "})"
      ]
    },
    {
      "cell_type": "code",
      "execution_count": null,
      "metadata": {
        "colab": {
          "base_uri": "https://localhost:8080/"
        },
        "id": "uiwq_tZgj_hE",
        "outputId": "50b66e41-1b4b-415b-9552-5d52e4b974ee"
      },
      "outputs": [
        {
          "data": {
            "text/plain": [
              "b'{\"id\":\"chatcmpl-63294d38-858e-4181-9741-80f0cc335d2f\",\"object\":\"chat.completion\",\"created\":1701420464,\"model\":\"model/gguf-model.bin\",\"choices\":[{\"index\":0,\"message\":{\"content\":\" Around 500 likes could be expected as it\\'s a positive news sharing the effort to combat COVID-19 and distancing from regular content like gin. However, actual engagement may vary depending on the audience, hashtags used and time of posting.\",\"role\":\"assistant\"},\"finish_reason\":\"stop\"}],\"usage\":{\"prompt_tokens\":63,\"completion_tokens\":55,\"total_tokens\":118}}'"
            ]
          },
          "execution_count": 11,
          "metadata": {},
          "output_type": "execute_result"
        }
      ],
      "source": [
        "response"
      ]
    },
    {
      "cell_type": "code",
      "execution_count": null,
      "metadata": {
        "id": "F_5Ok56DkALA"
      },
      "outputs": [],
      "source": [
        "response = client.post(json={\n",
        "  \"messages\":[\n",
        "    {\n",
        "      \"content\": \"Predict the approximate likes for this tweet. Just give me a number, no need of explanantion -An 85-year-old primary school in Shanghai has been lifted off the ground — in its entirety — and relocated using new technology dubbed the \"\"walking machine.\"\" \",\n",
        "      \"role\": \"user\"\n",
        "    }\n",
        "  ]\n",
        "})"
      ]
    },
    {
      "cell_type": "code",
      "execution_count": null,
      "metadata": {
        "colab": {
          "base_uri": "https://localhost:8080/"
        },
        "id": "UOUg9B38tmGx",
        "outputId": "6286ded7-69c6-4c8f-9418-5eee9ddd8509"
      },
      "outputs": [
        {
          "data": {
            "text/plain": [
              "b'{\"id\":\"chatcmpl-744a9659-40f4-44cc-964b-2b21d8523942\",\"object\":\"chat.completion\",\"created\":1701423124,\"model\":\"model/gguf-model.bin\",\"choices\":[{\"index\":0,\"message\":{\"content\":\" Around 10,000 likes\",\"role\":\"assistant\"},\"finish_reason\":\"stop\"}],\"usage\":{\"prompt_tokens\":79,\"completion_tokens\":9,\"total_tokens\":88}}'"
            ]
          },
          "execution_count": 13,
          "metadata": {},
          "output_type": "execute_result"
        }
      ],
      "source": [
        "response"
      ]
    },
    {
      "cell_type": "code",
      "execution_count": null,
      "metadata": {
        "colab": {
          "base_uri": "https://localhost:8080/"
        },
        "id": "cPVPsGFYuJJB",
        "outputId": "76f54faf-e806-4a9a-fd87-1e2526c1946d"
      },
      "outputs": [
        {
          "output_type": "stream",
          "name": "stdout",
          "text": [
            "Cloning into 'main'...\n",
            "fatal: repository 'https://huggingface.co/spaces/Warlord-K/AVA/tree/main/' not found\n"
          ]
        }
      ],
      "source": [
        "!git clone https://huggingface.co/spaces/Warlord-K/AVA/tree/main"
      ]
    },
    {
      "cell_type": "code",
      "execution_count": null,
      "metadata": {
        "colab": {
          "base_uri": "https://localhost:8080/"
        },
        "id": "Xly9DTqZIPgX",
        "outputId": "c3279f98-0f43-4e1d-e6f6-6f53d1af6072"
      },
      "outputs": [
        {
          "output_type": "stream",
          "name": "stdout",
          "text": [
            "Git LFS initialized.\n",
            "Cloning into 'AVA'...\n",
            "remote: Enumerating objects: 51, done.\u001b[K\n",
            "remote: Total 51 (delta 0), reused 0 (delta 0), pack-reused 51\u001b[K\n",
            "Unpacking objects: 100% (51/51), 33.17 KiB | 1.33 MiB/s, done.\n"
          ]
        }
      ],
      "source": [
        "!git lfs install\n",
        "!git clone https://huggingface.co/spaces/Warlord-K/AVA"
      ]
    },
    {
      "cell_type": "code",
      "execution_count": null,
      "metadata": {
        "colab": {
          "base_uri": "https://localhost:8080/"
        },
        "id": "GrRGn__IIiTx",
        "outputId": "b9af65f9-9451-4c9e-c0a3-2ec62adc5311"
      },
      "outputs": [
        {
          "output_type": "stream",
          "name": "stdout",
          "text": [
            "Collecting git+https://github.com/philschmid/easyllm (from -r /content/AVA/requirements.txt (line 8))\n",
            "  Cloning https://github.com/philschmid/easyllm to /tmp/pip-req-build-0pr3stkx\n",
            "  Running command git clone --filter=blob:none --quiet https://github.com/philschmid/easyllm /tmp/pip-req-build-0pr3stkx\n",
            "  Resolved https://github.com/philschmid/easyllm to commit 1f37a9307d68545f41639f392a301baadda7188a\n",
            "  Installing build dependencies ... \u001b[?25l\u001b[?25hdone\n",
            "  Getting requirements to build wheel ... \u001b[?25l\u001b[?25hdone\n",
            "  Preparing metadata (pyproject.toml) ... \u001b[?25l\u001b[?25hdone\n",
            "Collecting sentence_transformers (from -r /content/AVA/requirements.txt (line 1))\n",
            "  Downloading sentence-transformers-2.2.2.tar.gz (85 kB)\n",
            "\u001b[2K     \u001b[90m━━━━━━━━━━━━━━━━━━━━━━━━━━━━━━━━━━━━━━━━\u001b[0m \u001b[32m86.0/86.0 kB\u001b[0m \u001b[31m1.7 MB/s\u001b[0m eta \u001b[36m0:00:00\u001b[0m\n",
            "\u001b[?25h  Preparing metadata (setup.py) ... \u001b[?25l\u001b[?25hdone\n",
            "Collecting hnswlib (from -r /content/AVA/requirements.txt (line 2))\n",
            "  Downloading hnswlib-0.7.0.tar.gz (33 kB)\n",
            "  Installing build dependencies ... \u001b[?25l\u001b[?25hdone\n",
            "  Getting requirements to build wheel ... \u001b[?25l\u001b[?25hdone\n",
            "  Preparing metadata (pyproject.toml) ... \u001b[?25l\u001b[?25hdone\n",
            "Requirement already satisfied: huggingface_hub in /usr/local/lib/python3.10/dist-packages (from -r /content/AVA/requirements.txt (line 3)) (0.19.4)\n",
            "Collecting autoawq (from -r /content/AVA/requirements.txt (line 4))\n",
            "  Downloading autoawq-0.1.7-cp310-cp310-manylinux2014_x86_64.whl (20.5 MB)\n",
            "\u001b[2K     \u001b[90m━━━━━━━━━━━━━━━━━━━━━━━━━━━━━━━━━━━━━━━━\u001b[0m \u001b[32m20.5/20.5 MB\u001b[0m \u001b[31m16.6 MB/s\u001b[0m eta \u001b[36m0:00:00\u001b[0m\n",
            "\u001b[?25hRequirement already satisfied: scipy in /usr/local/lib/python3.10/dist-packages (from -r /content/AVA/requirements.txt (line 5)) (1.11.4)\n",
            "Requirement already satisfied: numpy in /usr/local/lib/python3.10/dist-packages (from -r /content/AVA/requirements.txt (line 6)) (1.23.5)\n",
            "Requirement already satisfied: pandas in /usr/local/lib/python3.10/dist-packages (from -r /content/AVA/requirements.txt (line 7)) (1.5.3)\n",
            "Requirement already satisfied: transformers in /usr/local/lib/python3.10/dist-packages (from -r /content/AVA/requirements.txt (line 9)) (4.35.2)\n",
            "Collecting gradio (from -r /content/AVA/requirements.txt (line 10))\n",
            "  Downloading gradio-4.7.1-py3-none-any.whl (16.5 MB)\n",
            "\u001b[2K     \u001b[90m━━━━━━━━━━━━━━━━━━━━━━━━━━━━━━━━━━━━━━━━\u001b[0m \u001b[32m16.5/16.5 MB\u001b[0m \u001b[31m36.9 MB/s\u001b[0m eta \u001b[36m0:00:00\u001b[0m\n",
            "\u001b[?25hRequirement already satisfied: tqdm in /usr/local/lib/python3.10/dist-packages (from sentence_transformers->-r /content/AVA/requirements.txt (line 1)) (4.66.1)\n",
            "Requirement already satisfied: torch>=1.6.0 in /usr/local/lib/python3.10/dist-packages (from sentence_transformers->-r /content/AVA/requirements.txt (line 1)) (2.1.0+cu118)\n",
            "Requirement already satisfied: torchvision in /usr/local/lib/python3.10/dist-packages (from sentence_transformers->-r /content/AVA/requirements.txt (line 1)) (0.16.0+cu118)\n",
            "Requirement already satisfied: scikit-learn in /usr/local/lib/python3.10/dist-packages (from sentence_transformers->-r /content/AVA/requirements.txt (line 1)) (1.2.2)\n",
            "Requirement already satisfied: nltk in /usr/local/lib/python3.10/dist-packages (from sentence_transformers->-r /content/AVA/requirements.txt (line 1)) (3.8.1)\n",
            "Collecting sentencepiece (from sentence_transformers->-r /content/AVA/requirements.txt (line 1))\n",
            "  Downloading sentencepiece-0.1.99-cp310-cp310-manylinux_2_17_x86_64.manylinux2014_x86_64.whl (1.3 MB)\n",
            "\u001b[2K     \u001b[90m━━━━━━━━━━━━━━━━━━━━━━━━━━━━━━━━━━━━━━━━\u001b[0m \u001b[32m1.3/1.3 MB\u001b[0m \u001b[31m57.9 MB/s\u001b[0m eta \u001b[36m0:00:00\u001b[0m\n",
            "\u001b[?25hRequirement already satisfied: filelock in /usr/local/lib/python3.10/dist-packages (from huggingface_hub->-r /content/AVA/requirements.txt (line 3)) (3.13.1)\n",
            "Requirement already satisfied: fsspec>=2023.5.0 in /usr/local/lib/python3.10/dist-packages (from huggingface_hub->-r /content/AVA/requirements.txt (line 3)) (2023.6.0)\n",
            "Requirement already satisfied: requests in /usr/local/lib/python3.10/dist-packages (from huggingface_hub->-r /content/AVA/requirements.txt (line 3)) (2.31.0)\n",
            "Requirement already satisfied: pyyaml>=5.1 in /usr/local/lib/python3.10/dist-packages (from huggingface_hub->-r /content/AVA/requirements.txt (line 3)) (6.0.1)\n",
            "Requirement already satisfied: typing-extensions>=3.7.4.3 in /usr/local/lib/python3.10/dist-packages (from huggingface_hub->-r /content/AVA/requirements.txt (line 3)) (4.5.0)\n",
            "Requirement already satisfied: packaging>=20.9 in /usr/local/lib/python3.10/dist-packages (from huggingface_hub->-r /content/AVA/requirements.txt (line 3)) (23.2)\n",
            "Requirement already satisfied: tokenizers>=0.12.1 in /usr/local/lib/python3.10/dist-packages (from autoawq->-r /content/AVA/requirements.txt (line 4)) (0.15.0)\n",
            "Collecting accelerate (from autoawq->-r /content/AVA/requirements.txt (line 4))\n",
            "  Downloading accelerate-0.25.0-py3-none-any.whl (265 kB)\n",
            "\u001b[2K     \u001b[90m━━━━━━━━━━━━━━━━━━━━━━━━━━━━━━━━━━━━━━━━\u001b[0m \u001b[32m265.7/265.7 kB\u001b[0m \u001b[31m24.6 MB/s\u001b[0m eta \u001b[36m0:00:00\u001b[0m\n",
            "\u001b[?25hCollecting lm-eval (from autoawq->-r /content/AVA/requirements.txt (line 4))\n",
            "  Downloading lm_eval-0.3.0-py3-none-any.whl (178 kB)\n",
            "\u001b[2K     \u001b[90m━━━━━━━━━━━━━━━━━━━━━━━━━━━━━━━━━━━━━━━━\u001b[0m \u001b[32m178.7/178.7 kB\u001b[0m \u001b[31m17.5 MB/s\u001b[0m eta \u001b[36m0:00:00\u001b[0m\n",
            "\u001b[?25hCollecting texttable (from autoawq->-r /content/AVA/requirements.txt (line 4))\n",
            "  Downloading texttable-1.7.0-py2.py3-none-any.whl (10 kB)\n",
            "Requirement already satisfied: toml in /usr/local/lib/python3.10/dist-packages (from autoawq->-r /content/AVA/requirements.txt (line 4)) (0.10.2)\n",
            "Collecting attributedict (from autoawq->-r /content/AVA/requirements.txt (line 4))\n",
            "  Downloading attributedict-0.3.0-py3-none-any.whl (14 kB)\n",
            "Requirement already satisfied: protobuf in /usr/local/lib/python3.10/dist-packages (from autoawq->-r /content/AVA/requirements.txt (line 4)) (3.20.3)\n",
            "Requirement already satisfied: tabulate in /usr/local/lib/python3.10/dist-packages (from autoawq->-r /content/AVA/requirements.txt (line 4)) (0.9.0)\n",
            "Requirement already satisfied: python-dateutil>=2.8.1 in /usr/local/lib/python3.10/dist-packages (from pandas->-r /content/AVA/requirements.txt (line 7)) (2.8.2)\n",
            "Requirement already satisfied: pytz>=2020.1 in /usr/local/lib/python3.10/dist-packages (from pandas->-r /content/AVA/requirements.txt (line 7)) (2023.3.post1)\n",
            "Collecting huggingface_hub (from -r /content/AVA/requirements.txt (line 3))\n",
            "  Downloading huggingface_hub-0.16.4-py3-none-any.whl (268 kB)\n",
            "\u001b[2K     \u001b[90m━━━━━━━━━━━━━━━━━━━━━━━━━━━━━━━━━━━━━━━━\u001b[0m \u001b[32m268.8/268.8 kB\u001b[0m \u001b[31m21.2 MB/s\u001b[0m eta \u001b[36m0:00:00\u001b[0m\n",
            "\u001b[?25hCollecting nanoid==2.0.0 (from easyllm==0.7.0.dev0->-r /content/AVA/requirements.txt (line 8))\n",
            "  Downloading nanoid-2.0.0-py3-none-any.whl (5.8 kB)\n",
            "Collecting pydantic==2.1.1 (from easyllm==0.7.0.dev0->-r /content/AVA/requirements.txt (line 8))\n",
            "  Downloading pydantic-2.1.1-py3-none-any.whl (370 kB)\n",
            "\u001b[2K     \u001b[90m━━━━━━━━━━━━━━━━━━━━━━━━━━━━━━━━━━━━━━━━\u001b[0m \u001b[32m370.9/370.9 kB\u001b[0m \u001b[31m36.5 MB/s\u001b[0m eta \u001b[36m0:00:00\u001b[0m\n",
            "\u001b[?25hCollecting annotated-types>=0.4.0 (from pydantic==2.1.1->easyllm==0.7.0.dev0->-r /content/AVA/requirements.txt (line 8))\n",
            "  Downloading annotated_types-0.6.0-py3-none-any.whl (12 kB)\n",
            "Collecting pydantic-core==2.4.0 (from pydantic==2.1.1->easyllm==0.7.0.dev0->-r /content/AVA/requirements.txt (line 8))\n",
            "  Downloading pydantic_core-2.4.0-cp310-cp310-manylinux_2_17_x86_64.manylinux2014_x86_64.whl (1.9 MB)\n",
            "\u001b[2K     \u001b[90m━━━━━━━━━━━━━━━━━━━━━━━━━━━━━━━━━━━━━━━━\u001b[0m \u001b[32m1.9/1.9 MB\u001b[0m \u001b[31m82.6 MB/s\u001b[0m eta \u001b[36m0:00:00\u001b[0m\n",
            "\u001b[?25hCollecting typing-extensions>=3.7.4.3 (from huggingface_hub->-r /content/AVA/requirements.txt (line 3))\n",
            "  Downloading typing_extensions-4.8.0-py3-none-any.whl (31 kB)\n",
            "Requirement already satisfied: regex!=2019.12.17 in /usr/local/lib/python3.10/dist-packages (from transformers->-r /content/AVA/requirements.txt (line 9)) (2023.6.3)\n",
            "Requirement already satisfied: safetensors>=0.3.1 in /usr/local/lib/python3.10/dist-packages (from transformers->-r /content/AVA/requirements.txt (line 9)) (0.4.1)\n",
            "Collecting aiofiles<24.0,>=22.0 (from gradio->-r /content/AVA/requirements.txt (line 10))\n",
            "  Downloading aiofiles-23.2.1-py3-none-any.whl (15 kB)\n",
            "Requirement already satisfied: altair<6.0,>=4.2.0 in /usr/local/lib/python3.10/dist-packages (from gradio->-r /content/AVA/requirements.txt (line 10)) (4.2.2)\n",
            "Collecting fastapi (from gradio->-r /content/AVA/requirements.txt (line 10))\n",
            "  Downloading fastapi-0.104.1-py3-none-any.whl (92 kB)\n",
            "\u001b[2K     \u001b[90m━━━━━━━━━━━━━━━━━━━━━━━━━━━━━━━━━━━━━━━━\u001b[0m \u001b[32m92.9/92.9 kB\u001b[0m \u001b[31m10.4 MB/s\u001b[0m eta \u001b[36m0:00:00\u001b[0m\n",
            "\u001b[?25hCollecting ffmpy (from gradio->-r /content/AVA/requirements.txt (line 10))\n",
            "  Downloading ffmpy-0.3.1.tar.gz (5.5 kB)\n",
            "  Preparing metadata (setup.py) ... \u001b[?25l\u001b[?25hdone\n",
            "Collecting gradio-client==0.7.0 (from gradio->-r /content/AVA/requirements.txt (line 10))\n",
            "  Downloading gradio_client-0.7.0-py3-none-any.whl (302 kB)\n",
            "\u001b[2K     \u001b[90m━━━━━━━━━━━━━━━━━━━━━━━━━━━━━━━━━━━━━━━━\u001b[0m \u001b[32m302.7/302.7 kB\u001b[0m \u001b[31m28.7 MB/s\u001b[0m eta \u001b[36m0:00:00\u001b[0m\n",
            "\u001b[?25hCollecting httpx (from gradio->-r /content/AVA/requirements.txt (line 10))\n",
            "  Downloading httpx-0.25.2-py3-none-any.whl (74 kB)\n",
            "\u001b[2K     \u001b[90m━━━━━━━━━━━━━━━━━━━━━━━━━━━━━━━━━━━━━━━━\u001b[0m \u001b[32m75.0/75.0 kB\u001b[0m \u001b[31m9.1 MB/s\u001b[0m eta \u001b[36m0:00:00\u001b[0m\n",
            "\u001b[?25hRequirement already satisfied: importlib-resources<7.0,>=1.3 in /usr/local/lib/python3.10/dist-packages (from gradio->-r /content/AVA/requirements.txt (line 10)) (6.1.1)\n",
            "Requirement already satisfied: jinja2<4.0 in /usr/local/lib/python3.10/dist-packages (from gradio->-r /content/AVA/requirements.txt (line 10)) (3.1.2)\n",
            "Requirement already satisfied: markupsafe~=2.0 in /usr/local/lib/python3.10/dist-packages (from gradio->-r /content/AVA/requirements.txt (line 10)) (2.1.3)\n",
            "Requirement already satisfied: matplotlib~=3.0 in /usr/local/lib/python3.10/dist-packages (from gradio->-r /content/AVA/requirements.txt (line 10)) (3.7.1)\n",
            "Collecting orjson~=3.0 (from gradio->-r /content/AVA/requirements.txt (line 10))\n",
            "  Downloading orjson-3.9.10-cp310-cp310-manylinux_2_17_x86_64.manylinux2014_x86_64.whl (138 kB)\n",
            "\u001b[2K     \u001b[90m━━━━━━━━━━━━━━━━━━━━━━━━━━━━━━━━━━━━━━━━\u001b[0m \u001b[32m138.7/138.7 kB\u001b[0m \u001b[31m15.9 MB/s\u001b[0m eta \u001b[36m0:00:00\u001b[0m\n",
            "\u001b[?25hRequirement already satisfied: pillow<11.0,>=8.0 in /usr/local/lib/python3.10/dist-packages (from gradio->-r /content/AVA/requirements.txt (line 10)) (9.4.0)\n",
            "Collecting pydub (from gradio->-r /content/AVA/requirements.txt (line 10))\n",
            "  Downloading pydub-0.25.1-py2.py3-none-any.whl (32 kB)\n",
            "Collecting python-multipart (from gradio->-r /content/AVA/requirements.txt (line 10))\n",
            "  Downloading python_multipart-0.0.6-py3-none-any.whl (45 kB)\n",
            "\u001b[2K     \u001b[90m━━━━━━━━━━━━━━━━━━━━━━━━━━━━━━━━━━━━━━━━\u001b[0m \u001b[32m45.7/45.7 kB\u001b[0m \u001b[31m3.2 MB/s\u001b[0m eta \u001b[36m0:00:00\u001b[0m\n",
            "\u001b[?25hCollecting semantic-version~=2.0 (from gradio->-r /content/AVA/requirements.txt (line 10))\n",
            "  Downloading semantic_version-2.10.0-py2.py3-none-any.whl (15 kB)\n",
            "Collecting tomlkit==0.12.0 (from gradio->-r /content/AVA/requirements.txt (line 10))\n",
            "  Downloading tomlkit-0.12.0-py3-none-any.whl (37 kB)\n",
            "Requirement already satisfied: typer[all]<1.0,>=0.9 in /usr/local/lib/python3.10/dist-packages (from gradio->-r /content/AVA/requirements.txt (line 10)) (0.9.0)\n",
            "Collecting uvicorn>=0.14.0 (from gradio->-r /content/AVA/requirements.txt (line 10))\n",
            "  Downloading uvicorn-0.24.0.post1-py3-none-any.whl (59 kB)\n",
            "\u001b[2K     \u001b[90m━━━━━━━━━━━━━━━━━━━━━━━━━━━━━━━━━━━━━━━━\u001b[0m \u001b[32m59.7/59.7 kB\u001b[0m \u001b[31m7.5 MB/s\u001b[0m eta \u001b[36m0:00:00\u001b[0m\n",
            "\u001b[?25hCollecting websockets<12.0,>=10.0 (from gradio-client==0.7.0->gradio->-r /content/AVA/requirements.txt (line 10))\n",
            "  Downloading websockets-11.0.3-cp310-cp310-manylinux_2_5_x86_64.manylinux1_x86_64.manylinux_2_17_x86_64.manylinux2014_x86_64.whl (129 kB)\n",
            "\u001b[2K     \u001b[90m━━━━━━━━━━━━━━━━━━━━━━━━━━━━━━━━━━━━━━━━\u001b[0m \u001b[32m129.9/129.9 kB\u001b[0m \u001b[31m14.5 MB/s\u001b[0m eta \u001b[36m0:00:00\u001b[0m\n",
            "\u001b[?25hRequirement already satisfied: entrypoints in /usr/local/lib/python3.10/dist-packages (from altair<6.0,>=4.2.0->gradio->-r /content/AVA/requirements.txt (line 10)) (0.4)\n",
            "Requirement already satisfied: jsonschema>=3.0 in /usr/local/lib/python3.10/dist-packages (from altair<6.0,>=4.2.0->gradio->-r /content/AVA/requirements.txt (line 10)) (4.19.2)\n",
            "Requirement already satisfied: toolz in /usr/local/lib/python3.10/dist-packages (from altair<6.0,>=4.2.0->gradio->-r /content/AVA/requirements.txt (line 10)) (0.12.0)\n",
            "Requirement already satisfied: contourpy>=1.0.1 in /usr/local/lib/python3.10/dist-packages (from matplotlib~=3.0->gradio->-r /content/AVA/requirements.txt (line 10)) (1.2.0)\n",
            "Requirement already satisfied: cycler>=0.10 in /usr/local/lib/python3.10/dist-packages (from matplotlib~=3.0->gradio->-r /content/AVA/requirements.txt (line 10)) (0.12.1)\n",
            "Requirement already satisfied: fonttools>=4.22.0 in /usr/local/lib/python3.10/dist-packages (from matplotlib~=3.0->gradio->-r /content/AVA/requirements.txt (line 10)) (4.45.1)\n",
            "Requirement already satisfied: kiwisolver>=1.0.1 in /usr/local/lib/python3.10/dist-packages (from matplotlib~=3.0->gradio->-r /content/AVA/requirements.txt (line 10)) (1.4.5)\n",
            "Requirement already satisfied: pyparsing>=2.3.1 in /usr/local/lib/python3.10/dist-packages (from matplotlib~=3.0->gradio->-r /content/AVA/requirements.txt (line 10)) (3.1.1)\n",
            "Requirement already satisfied: six>=1.5 in /usr/local/lib/python3.10/dist-packages (from python-dateutil>=2.8.1->pandas->-r /content/AVA/requirements.txt (line 7)) (1.16.0)\n",
            "Requirement already satisfied: charset-normalizer<4,>=2 in /usr/local/lib/python3.10/dist-packages (from requests->huggingface_hub->-r /content/AVA/requirements.txt (line 3)) (3.3.2)\n",
            "Requirement already satisfied: idna<4,>=2.5 in /usr/local/lib/python3.10/dist-packages (from requests->huggingface_hub->-r /content/AVA/requirements.txt (line 3)) (3.6)\n",
            "Requirement already satisfied: urllib3<3,>=1.21.1 in /usr/local/lib/python3.10/dist-packages (from requests->huggingface_hub->-r /content/AVA/requirements.txt (line 3)) (2.0.7)\n",
            "Requirement already satisfied: certifi>=2017.4.17 in /usr/local/lib/python3.10/dist-packages (from requests->huggingface_hub->-r /content/AVA/requirements.txt (line 3)) (2023.11.17)\n",
            "Requirement already satisfied: sympy in /usr/local/lib/python3.10/dist-packages (from torch>=1.6.0->sentence_transformers->-r /content/AVA/requirements.txt (line 1)) (1.12)\n",
            "Requirement already satisfied: networkx in /usr/local/lib/python3.10/dist-packages (from torch>=1.6.0->sentence_transformers->-r /content/AVA/requirements.txt (line 1)) (3.2.1)\n",
            "Requirement already satisfied: triton==2.1.0 in /usr/local/lib/python3.10/dist-packages (from torch>=1.6.0->sentence_transformers->-r /content/AVA/requirements.txt (line 1)) (2.1.0)\n",
            "Requirement already satisfied: click<9.0.0,>=7.1.1 in /usr/local/lib/python3.10/dist-packages (from typer[all]<1.0,>=0.9->gradio->-r /content/AVA/requirements.txt (line 10)) (8.1.7)\n",
            "Collecting colorama<0.5.0,>=0.4.3 (from typer[all]<1.0,>=0.9->gradio->-r /content/AVA/requirements.txt (line 10))\n",
            "  Downloading colorama-0.4.6-py2.py3-none-any.whl (25 kB)\n",
            "Collecting shellingham<2.0.0,>=1.3.0 (from typer[all]<1.0,>=0.9->gradio->-r /content/AVA/requirements.txt (line 10))\n",
            "  Downloading shellingham-1.5.4-py2.py3-none-any.whl (9.8 kB)\n",
            "Requirement already satisfied: rich<14.0.0,>=10.11.0 in /usr/local/lib/python3.10/dist-packages (from typer[all]<1.0,>=0.9->gradio->-r /content/AVA/requirements.txt (line 10)) (13.7.0)\n",
            "Collecting h11>=0.8 (from uvicorn>=0.14.0->gradio->-r /content/AVA/requirements.txt (line 10))\n",
            "  Downloading h11-0.14.0-py3-none-any.whl (58 kB)\n",
            "\u001b[2K     \u001b[90m━━━━━━━━━━━━━━━━━━━━━━━━━━━━━━━━━━━━━━━━\u001b[0m \u001b[32m58.3/58.3 kB\u001b[0m \u001b[31m6.3 MB/s\u001b[0m eta \u001b[36m0:00:00\u001b[0m\n",
            "\u001b[?25hRequirement already satisfied: psutil in /usr/local/lib/python3.10/dist-packages (from accelerate->autoawq->-r /content/AVA/requirements.txt (line 4)) (5.9.5)\n",
            "Collecting rootpath>=0.1.0 (from attributedict->autoawq->-r /content/AVA/requirements.txt (line 4))\n",
            "  Downloading rootpath-0.1.1-py3-none-any.whl (15 kB)\n",
            "Collecting inspecta>=0.1.0 (from attributedict->autoawq->-r /content/AVA/requirements.txt (line 4))\n",
            "  Downloading inspecta-0.1.3-py3-none-any.whl (9.2 kB)\n",
            "Collecting colour-runner>=0.0.5 (from attributedict->autoawq->-r /content/AVA/requirements.txt (line 4))\n",
            "  Downloading colour_runner-0.1.1-py2.py3-none-any.whl (3.7 kB)\n",
            "Collecting deepdiff>=3.3.0 (from attributedict->autoawq->-r /content/AVA/requirements.txt (line 4))\n",
            "  Downloading deepdiff-6.7.1-py3-none-any.whl (76 kB)\n",
            "\u001b[2K     \u001b[90m━━━━━━━━━━━━━━━━━━━━━━━━━━━━━━━━━━━━━━━━\u001b[0m \u001b[32m76.6/76.6 kB\u001b[0m \u001b[31m8.4 MB/s\u001b[0m eta \u001b[36m0:00:00\u001b[0m\n",
            "\u001b[?25hCollecting tox>=3.0.0 (from attributedict->autoawq->-r /content/AVA/requirements.txt (line 4))\n",
            "  Downloading tox-4.11.4-py3-none-any.whl (153 kB)\n",
            "\u001b[2K     \u001b[90m━━━━━━━━━━━━━━━━━━━━━━━━━━━━━━━━━━━━━━━━\u001b[0m \u001b[32m154.0/154.0 kB\u001b[0m \u001b[31m17.5 MB/s\u001b[0m eta \u001b[36m0:00:00\u001b[0m\n",
            "\u001b[?25hCollecting coverage>=4.5.2 (from attributedict->autoawq->-r /content/AVA/requirements.txt (line 4))\n",
            "  Downloading coverage-7.3.2-cp310-cp310-manylinux_2_5_x86_64.manylinux1_x86_64.manylinux_2_17_x86_64.manylinux2014_x86_64.whl (227 kB)\n",
            "\u001b[2K     \u001b[90m━━━━━━━━━━━━━━━━━━━━━━━━━━━━━━━━━━━━━━━━\u001b[0m \u001b[32m227.5/227.5 kB\u001b[0m \u001b[31m21.0 MB/s\u001b[0m eta \u001b[36m0:00:00\u001b[0m\n",
            "\u001b[?25hCollecting codecov>=2.0.15 (from attributedict->autoawq->-r /content/AVA/requirements.txt (line 4))\n",
            "  Downloading codecov-2.1.13-py2.py3-none-any.whl (16 kB)\n",
            "Requirement already satisfied: anyio<4.0.0,>=3.7.1 in /usr/local/lib/python3.10/dist-packages (from fastapi->gradio->-r /content/AVA/requirements.txt (line 10)) (3.7.1)\n",
            "Collecting starlette<0.28.0,>=0.27.0 (from fastapi->gradio->-r /content/AVA/requirements.txt (line 10))\n",
            "  Downloading starlette-0.27.0-py3-none-any.whl (66 kB)\n",
            "\u001b[2K     \u001b[90m━━━━━━━━━━━━━━━━━━━━━━━━━━━━━━━━━━━━━━━━\u001b[0m \u001b[32m67.0/67.0 kB\u001b[0m \u001b[31m7.5 MB/s\u001b[0m eta \u001b[36m0:00:00\u001b[0m\n",
            "\u001b[?25hCollecting httpcore==1.* (from httpx->gradio->-r /content/AVA/requirements.txt (line 10))\n",
            "  Downloading httpcore-1.0.2-py3-none-any.whl (76 kB)\n",
            "\u001b[2K     \u001b[90m━━━━━━━━━━━━━━━━━━━━━━━━━━━━━━━━━━━━━━━━\u001b[0m \u001b[32m76.9/76.9 kB\u001b[0m \u001b[31m8.8 MB/s\u001b[0m eta \u001b[36m0:00:00\u001b[0m\n",
            "\u001b[?25hRequirement already satisfied: sniffio in /usr/local/lib/python3.10/dist-packages (from httpx->gradio->-r /content/AVA/requirements.txt (line 10)) (1.3.0)\n",
            "Collecting datasets>=2.0.0 (from lm-eval->autoawq->-r /content/AVA/requirements.txt (line 4))\n",
            "  Downloading datasets-2.15.0-py3-none-any.whl (521 kB)\n",
            "\u001b[2K     \u001b[90m━━━━━━━━━━━━━━━━━━━━━━━━━━━━━━━━━━━━━━━━\u001b[0m \u001b[32m521.2/521.2 kB\u001b[0m \u001b[31m38.5 MB/s\u001b[0m eta \u001b[36m0:00:00\u001b[0m\n",
            "\u001b[?25hCollecting jsonlines (from lm-eval->autoawq->-r /content/AVA/requirements.txt (line 4))\n",
            "  Downloading jsonlines-4.0.0-py3-none-any.whl (8.7 kB)\n",
            "Requirement already satisfied: numexpr in /usr/local/lib/python3.10/dist-packages (from lm-eval->autoawq->-r /content/AVA/requirements.txt (line 4)) (2.8.7)\n",
            "Collecting openai>=0.6.4 (from lm-eval->autoawq->-r /content/AVA/requirements.txt (line 4))\n",
            "  Downloading openai-1.3.7-py3-none-any.whl (221 kB)\n",
            "\u001b[2K     \u001b[90m━━━━━━━━━━━━━━━━━━━━━━━━━━━━━━━━━━━━━━━━\u001b[0m \u001b[32m221.4/221.4 kB\u001b[0m \u001b[31m20.7 MB/s\u001b[0m eta \u001b[36m0:00:00\u001b[0m\n",
            "\u001b[?25hCollecting pybind11>=2.6.2 (from lm-eval->autoawq->-r /content/AVA/requirements.txt (line 4))\n",
            "  Using cached pybind11-2.11.1-py3-none-any.whl (227 kB)\n",
            "Collecting pycountry (from lm-eval->autoawq->-r /content/AVA/requirements.txt (line 4))\n",
            "  Downloading pycountry-22.3.5.tar.gz (10.1 MB)\n",
            "\u001b[2K     \u001b[90m━━━━━━━━━━━━━━━━━━━━━━━━━━━━━━━━━━━━━━━━\u001b[0m \u001b[32m10.1/10.1 MB\u001b[0m \u001b[31m74.2 MB/s\u001b[0m eta \u001b[36m0:00:00\u001b[0m\n",
            "\u001b[?25h  Installing build dependencies ... \u001b[?25l\u001b[?25hdone\n",
            "  Getting requirements to build wheel ... \u001b[?25l\u001b[?25hdone\n",
            "  Preparing metadata (pyproject.toml) ... \u001b[?25l\u001b[?25hdone\n",
            "Collecting pytablewriter (from lm-eval->autoawq->-r /content/AVA/requirements.txt (line 4))\n",
            "  Downloading pytablewriter-1.2.0-py3-none-any.whl (111 kB)\n",
            "\u001b[2K     \u001b[90m━━━━━━━━━━━━━━━━━━━━━━━━━━━━━━━━━━━━━━━━\u001b[0m \u001b[32m111.1/111.1 kB\u001b[0m \u001b[31m13.2 MB/s\u001b[0m eta \u001b[36m0:00:00\u001b[0m\n",
            "\u001b[?25hCollecting rouge-score>=0.0.4 (from lm-eval->autoawq->-r /content/AVA/requirements.txt (line 4))\n",
            "  Downloading rouge_score-0.1.2.tar.gz (17 kB)\n",
            "  Preparing metadata (setup.py) ... \u001b[?25l\u001b[?25hdone\n",
            "Collecting sacrebleu==1.5.0 (from lm-eval->autoawq->-r /content/AVA/requirements.txt (line 4))\n",
            "  Downloading sacrebleu-1.5.0-py3-none-any.whl (65 kB)\n",
            "\u001b[2K     \u001b[90m━━━━━━━━━━━━━━━━━━━━━━━━━━━━━━━━━━━━━━━━\u001b[0m \u001b[32m65.6/65.6 kB\u001b[0m \u001b[31m7.3 MB/s\u001b[0m eta \u001b[36m0:00:00\u001b[0m\n",
            "\u001b[?25hCollecting sqlitedict (from lm-eval->autoawq->-r /content/AVA/requirements.txt (line 4))\n",
            "  Downloading sqlitedict-2.1.0.tar.gz (21 kB)\n",
            "  Preparing metadata (setup.py) ... \u001b[?25l\u001b[?25hdone\n",
            "Collecting tqdm-multiprocess (from lm-eval->autoawq->-r /content/AVA/requirements.txt (line 4))\n",
            "  Downloading tqdm_multiprocess-0.0.11-py3-none-any.whl (9.8 kB)\n",
            "Collecting zstandard (from lm-eval->autoawq->-r /content/AVA/requirements.txt (line 4))\n",
            "  Downloading zstandard-0.22.0-cp310-cp310-manylinux_2_17_x86_64.manylinux2014_x86_64.whl (5.4 MB)\n",
            "\u001b[2K     \u001b[90m━━━━━━━━━━━━━━━━━━━━━━━━━━━━━━━━━━━━━━━━\u001b[0m \u001b[32m5.4/5.4 MB\u001b[0m \u001b[31m110.0 MB/s\u001b[0m eta \u001b[36m0:00:00\u001b[0m\n",
            "\u001b[?25hCollecting portalocker (from sacrebleu==1.5.0->lm-eval->autoawq->-r /content/AVA/requirements.txt (line 4))\n",
            "  Downloading portalocker-2.8.2-py3-none-any.whl (17 kB)\n",
            "Requirement already satisfied: joblib>=1.1.1 in /usr/local/lib/python3.10/dist-packages (from scikit-learn->sentence_transformers->-r /content/AVA/requirements.txt (line 1)) (1.3.2)\n",
            "Requirement already satisfied: threadpoolctl>=2.0.0 in /usr/local/lib/python3.10/dist-packages (from scikit-learn->sentence_transformers->-r /content/AVA/requirements.txt (line 1)) (3.2.0)\n",
            "Requirement already satisfied: exceptiongroup in /usr/local/lib/python3.10/dist-packages (from anyio<4.0.0,>=3.7.1->fastapi->gradio->-r /content/AVA/requirements.txt (line 10)) (1.2.0)\n",
            "Collecting blessings (from colour-runner>=0.0.5->attributedict->autoawq->-r /content/AVA/requirements.txt (line 4))\n",
            "  Downloading blessings-1.7-py3-none-any.whl (18 kB)\n",
            "Requirement already satisfied: pygments in /usr/local/lib/python3.10/dist-packages (from colour-runner>=0.0.5->attributedict->autoawq->-r /content/AVA/requirements.txt (line 4)) (2.16.1)\n",
            "Requirement already satisfied: pyarrow>=8.0.0 in /usr/local/lib/python3.10/dist-packages (from datasets>=2.0.0->lm-eval->autoawq->-r /content/AVA/requirements.txt (line 4)) (9.0.0)\n",
            "Collecting pyarrow-hotfix (from datasets>=2.0.0->lm-eval->autoawq->-r /content/AVA/requirements.txt (line 4))\n",
            "  Downloading pyarrow_hotfix-0.6-py3-none-any.whl (7.9 kB)\n",
            "Collecting dill<0.3.8,>=0.3.0 (from datasets>=2.0.0->lm-eval->autoawq->-r /content/AVA/requirements.txt (line 4))\n",
            "  Downloading dill-0.3.7-py3-none-any.whl (115 kB)\n",
            "\u001b[2K     \u001b[90m━━━━━━━━━━━━━━━━━━━━━━━━━━━━━━━━━━━━━━━━\u001b[0m \u001b[32m115.3/115.3 kB\u001b[0m \u001b[31m13.5 MB/s\u001b[0m eta \u001b[36m0:00:00\u001b[0m\n",
            "\u001b[?25hRequirement already satisfied: xxhash in /usr/local/lib/python3.10/dist-packages (from datasets>=2.0.0->lm-eval->autoawq->-r /content/AVA/requirements.txt (line 4)) (3.4.1)\n",
            "Collecting multiprocess (from datasets>=2.0.0->lm-eval->autoawq->-r /content/AVA/requirements.txt (line 4))\n",
            "  Downloading multiprocess-0.70.15-py310-none-any.whl (134 kB)\n",
            "\u001b[2K     \u001b[90m━━━━━━━━━━━━━━━━━━━━━━━━━━━━━━━━━━━━━━━━\u001b[0m \u001b[32m134.8/134.8 kB\u001b[0m \u001b[31m14.4 MB/s\u001b[0m eta \u001b[36m0:00:00\u001b[0m\n",
            "\u001b[?25hRequirement already satisfied: aiohttp in /usr/local/lib/python3.10/dist-packages (from datasets>=2.0.0->lm-eval->autoawq->-r /content/AVA/requirements.txt (line 4)) (3.9.1)\n",
            "INFO: pip is looking at multiple versions of datasets to determine which version is compatible with other requirements. This could take a while.\n",
            "Collecting datasets>=2.0.0 (from lm-eval->autoawq->-r /content/AVA/requirements.txt (line 4))\n",
            "  Downloading datasets-2.14.7-py3-none-any.whl (520 kB)\n",
            "\u001b[2K     \u001b[90m━━━━━━━━━━━━━━━━━━━━━━━━━━━━━━━━━━━━━━━━\u001b[0m \u001b[32m520.4/520.4 kB\u001b[0m \u001b[31m43.0 MB/s\u001b[0m eta \u001b[36m0:00:00\u001b[0m\n",
            "\u001b[?25hCollecting ordered-set<4.2.0,>=4.0.2 (from deepdiff>=3.3.0->attributedict->autoawq->-r /content/AVA/requirements.txt (line 4))\n",
            "  Downloading ordered_set-4.1.0-py3-none-any.whl (7.6 kB)\n",
            "Requirement already satisfied: termcolor>=1.1.0 in /usr/local/lib/python3.10/dist-packages (from inspecta>=0.1.0->attributedict->autoawq->-r /content/AVA/requirements.txt (line 4)) (2.3.0)\n",
            "Requirement already satisfied: attrs>=22.2.0 in /usr/local/lib/python3.10/dist-packages (from jsonschema>=3.0->altair<6.0,>=4.2.0->gradio->-r /content/AVA/requirements.txt (line 10)) (23.1.0)\n",
            "Requirement already satisfied: jsonschema-specifications>=2023.03.6 in /usr/local/lib/python3.10/dist-packages (from jsonschema>=3.0->altair<6.0,>=4.2.0->gradio->-r /content/AVA/requirements.txt (line 10)) (2023.11.1)\n",
            "Requirement already satisfied: referencing>=0.28.4 in /usr/local/lib/python3.10/dist-packages (from jsonschema>=3.0->altair<6.0,>=4.2.0->gradio->-r /content/AVA/requirements.txt (line 10)) (0.31.1)\n",
            "Requirement already satisfied: rpds-py>=0.7.1 in /usr/local/lib/python3.10/dist-packages (from jsonschema>=3.0->altair<6.0,>=4.2.0->gradio->-r /content/AVA/requirements.txt (line 10)) (0.13.2)\n",
            "Requirement already satisfied: distro<2,>=1.7.0 in /usr/lib/python3/dist-packages (from openai>=0.6.4->lm-eval->autoawq->-r /content/AVA/requirements.txt (line 4)) (1.7.0)\n",
            "Requirement already satisfied: markdown-it-py>=2.2.0 in /usr/local/lib/python3.10/dist-packages (from rich<14.0.0,>=10.11.0->typer[all]<1.0,>=0.9->gradio->-r /content/AVA/requirements.txt (line 10)) (3.0.0)\n",
            "Collecting coloredlogs>=10.0 (from rootpath>=0.1.0->attributedict->autoawq->-r /content/AVA/requirements.txt (line 4))\n",
            "  Downloading coloredlogs-15.0.1-py2.py3-none-any.whl (46 kB)\n",
            "\u001b[2K     \u001b[90m━━━━━━━━━━━━━━━━━━━━━━━━━━━━━━━━━━━━━━━━\u001b[0m \u001b[32m46.0/46.0 kB\u001b[0m \u001b[31m5.1 MB/s\u001b[0m eta \u001b[36m0:00:00\u001b[0m\n",
            "\u001b[?25hRequirement already satisfied: absl-py in /usr/local/lib/python3.10/dist-packages (from rouge-score>=0.0.4->lm-eval->autoawq->-r /content/AVA/requirements.txt (line 4)) (1.4.0)\n",
            "Requirement already satisfied: cachetools>=5.3.1 in /usr/local/lib/python3.10/dist-packages (from tox>=3.0.0->attributedict->autoawq->-r /content/AVA/requirements.txt (line 4)) (5.3.2)\n",
            "Requirement already satisfied: chardet>=5.2 in /usr/local/lib/python3.10/dist-packages (from tox>=3.0.0->attributedict->autoawq->-r /content/AVA/requirements.txt (line 4)) (5.2.0)\n",
            "Requirement already satisfied: platformdirs>=3.10 in /usr/local/lib/python3.10/dist-packages (from tox>=3.0.0->attributedict->autoawq->-r /content/AVA/requirements.txt (line 4)) (4.0.0)\n",
            "Requirement already satisfied: pluggy>=1.3 in /usr/local/lib/python3.10/dist-packages (from tox>=3.0.0->attributedict->autoawq->-r /content/AVA/requirements.txt (line 4)) (1.3.0)\n",
            "Collecting pyproject-api>=1.6.1 (from tox>=3.0.0->attributedict->autoawq->-r /content/AVA/requirements.txt (line 4))\n",
            "  Downloading pyproject_api-1.6.1-py3-none-any.whl (12 kB)\n",
            "Requirement already satisfied: tomli>=2.0.1 in /usr/local/lib/python3.10/dist-packages (from tox>=3.0.0->attributedict->autoawq->-r /content/AVA/requirements.txt (line 4)) (2.0.1)\n",
            "Collecting virtualenv>=20.24.3 (from tox>=3.0.0->attributedict->autoawq->-r /content/AVA/requirements.txt (line 4))\n",
            "  Downloading virtualenv-20.25.0-py3-none-any.whl (3.8 MB)\n",
            "\u001b[2K     \u001b[90m━━━━━━━━━━━━━━━━━━━━━━━━━━━━━━━━━━━━━━━━\u001b[0m \u001b[32m3.8/3.8 MB\u001b[0m \u001b[31m74.6 MB/s\u001b[0m eta \u001b[36m0:00:00\u001b[0m\n",
            "\u001b[?25hRequirement already satisfied: setuptools in /usr/local/lib/python3.10/dist-packages (from pycountry->lm-eval->autoawq->-r /content/AVA/requirements.txt (line 4)) (67.7.2)\n",
            "Collecting DataProperty<2,>=1.0.1 (from pytablewriter->lm-eval->autoawq->-r /content/AVA/requirements.txt (line 4))\n",
            "  Downloading DataProperty-1.0.1-py3-none-any.whl (27 kB)\n",
            "Collecting mbstrdecoder<2,>=1.0.0 (from pytablewriter->lm-eval->autoawq->-r /content/AVA/requirements.txt (line 4))\n",
            "  Downloading mbstrdecoder-1.1.3-py3-none-any.whl (7.8 kB)\n",
            "Collecting pathvalidate<4,>=2.3.0 (from pytablewriter->lm-eval->autoawq->-r /content/AVA/requirements.txt (line 4))\n",
            "  Downloading pathvalidate-3.2.0-py3-none-any.whl (23 kB)\n",
            "Collecting tabledata<2,>=1.3.1 (from pytablewriter->lm-eval->autoawq->-r /content/AVA/requirements.txt (line 4))\n",
            "  Downloading tabledata-1.3.3-py3-none-any.whl (11 kB)\n",
            "Collecting tcolorpy<1,>=0.0.5 (from pytablewriter->lm-eval->autoawq->-r /content/AVA/requirements.txt (line 4))\n",
            "  Downloading tcolorpy-0.1.4-py3-none-any.whl (7.9 kB)\n",
            "Collecting typepy[datetime]<2,>=1.3.2 (from pytablewriter->lm-eval->autoawq->-r /content/AVA/requirements.txt (line 4))\n",
            "  Downloading typepy-1.3.2-py3-none-any.whl (31 kB)\n",
            "Requirement already satisfied: mpmath>=0.19 in /usr/local/lib/python3.10/dist-packages (from sympy->torch>=1.6.0->sentence_transformers->-r /content/AVA/requirements.txt (line 1)) (1.3.0)\n",
            "Collecting humanfriendly>=9.1 (from coloredlogs>=10.0->rootpath>=0.1.0->attributedict->autoawq->-r /content/AVA/requirements.txt (line 4))\n",
            "  Downloading humanfriendly-10.0-py2.py3-none-any.whl (86 kB)\n",
            "\u001b[2K     \u001b[90m━━━━━━━━━━━━━━━━━━━━━━━━━━━━━━━━━━━━━━━━\u001b[0m \u001b[32m86.8/86.8 kB\u001b[0m \u001b[31m9.4 MB/s\u001b[0m eta \u001b[36m0:00:00\u001b[0m\n",
            "\u001b[?25hRequirement already satisfied: multidict<7.0,>=4.5 in /usr/local/lib/python3.10/dist-packages (from aiohttp->datasets>=2.0.0->lm-eval->autoawq->-r /content/AVA/requirements.txt (line 4)) (6.0.4)\n",
            "Requirement already satisfied: yarl<2.0,>=1.0 in /usr/local/lib/python3.10/dist-packages (from aiohttp->datasets>=2.0.0->lm-eval->autoawq->-r /content/AVA/requirements.txt (line 4)) (1.9.3)\n",
            "Requirement already satisfied: frozenlist>=1.1.1 in /usr/local/lib/python3.10/dist-packages (from aiohttp->datasets>=2.0.0->lm-eval->autoawq->-r /content/AVA/requirements.txt (line 4)) (1.4.0)\n",
            "Requirement already satisfied: aiosignal>=1.1.2 in /usr/local/lib/python3.10/dist-packages (from aiohttp->datasets>=2.0.0->lm-eval->autoawq->-r /content/AVA/requirements.txt (line 4)) (1.3.1)\n",
            "Requirement already satisfied: async-timeout<5.0,>=4.0 in /usr/local/lib/python3.10/dist-packages (from aiohttp->datasets>=2.0.0->lm-eval->autoawq->-r /content/AVA/requirements.txt (line 4)) (4.0.3)\n",
            "Requirement already satisfied: mdurl~=0.1 in /usr/local/lib/python3.10/dist-packages (from markdown-it-py>=2.2.0->rich<14.0.0,>=10.11.0->typer[all]<1.0,>=0.9->gradio->-r /content/AVA/requirements.txt (line 10)) (0.1.2)\n",
            "Collecting distlib<1,>=0.3.7 (from virtualenv>=20.24.3->tox>=3.0.0->attributedict->autoawq->-r /content/AVA/requirements.txt (line 4))\n",
            "  Downloading distlib-0.3.7-py2.py3-none-any.whl (468 kB)\n",
            "\u001b[2K     \u001b[90m━━━━━━━━━━━━━━━━━━━━━━━━━━━━━━━━━━━━━━━━\u001b[0m \u001b[32m468.9/468.9 kB\u001b[0m \u001b[31m40.0 MB/s\u001b[0m eta \u001b[36m0:00:00\u001b[0m\n",
            "\u001b[?25hBuilding wheels for collected packages: sentence_transformers, hnswlib, easyllm, ffmpy, rouge-score, pycountry, sqlitedict\n",
            "  Building wheel for sentence_transformers (setup.py) ... \u001b[?25l\u001b[?25hdone\n",
            "  Created wheel for sentence_transformers: filename=sentence_transformers-2.2.2-py3-none-any.whl size=125923 sha256=2ee30c044177b5ece2e6b1b0630cdb3fbd38641dde601131eba672836177e760\n",
            "  Stored in directory: /root/.cache/pip/wheels/62/f2/10/1e606fd5f02395388f74e7462910fe851042f97238cbbd902f\n",
            "  Building wheel for hnswlib (pyproject.toml) ... \u001b[?25l\u001b[?25hdone\n",
            "  Created wheel for hnswlib: filename=hnswlib-0.7.0-cp310-cp310-linux_x86_64.whl size=2202686 sha256=df8c723f395d6f67db67479a4e1157e7faa2897aef131d148992b8d4df6106c6\n",
            "  Stored in directory: /root/.cache/pip/wheels/8a/ae/ec/235a682e0041fbaeee389843670581ec6c66872db856dfa9a4\n",
            "  Building wheel for easyllm (pyproject.toml) ... \u001b[?25l\u001b[?25hdone\n",
            "  Created wheel for easyllm: filename=easyllm-0.7.0.dev0-py3-none-any.whl size=42014 sha256=e10e90fc7cc88ce891c6c7aa417f3eaae7074ca4e2f13a17a76451ba419c2205\n",
            "  Stored in directory: /tmp/pip-ephem-wheel-cache-drq5kmty/wheels/c8/21/24/74503617d6174723216e6243386ab5c2123ff5933442a66ce7\n",
            "  Building wheel for ffmpy (setup.py) ... \u001b[?25l\u001b[?25hdone\n",
            "  Created wheel for ffmpy: filename=ffmpy-0.3.1-py3-none-any.whl size=5579 sha256=f90377268aea15c083ee7ddac5b310b3872dabadd7ee9cc7d316c70e6e8d72a6\n",
            "  Stored in directory: /root/.cache/pip/wheels/01/a6/d1/1c0828c304a4283b2c1639a09ad86f83d7c487ef34c6b4a1bf\n",
            "  Building wheel for rouge-score (setup.py) ... \u001b[?25l\u001b[?25hdone\n",
            "  Created wheel for rouge-score: filename=rouge_score-0.1.2-py3-none-any.whl size=24933 sha256=28132ff2120232a88af66a79493ba214b1a53139f82ccb5c9ea496b15c8fa46b\n",
            "  Stored in directory: /root/.cache/pip/wheels/5f/dd/89/461065a73be61a532ff8599a28e9beef17985c9e9c31e541b4\n",
            "  Building wheel for pycountry (pyproject.toml) ... \u001b[?25l\u001b[?25hdone\n",
            "  Created wheel for pycountry: filename=pycountry-22.3.5-py2.py3-none-any.whl size=10681832 sha256=b3b87da41b6d165d26a4910d8102c00a9c874675f35ad423c4c9d30de2e78a92\n",
            "  Stored in directory: /root/.cache/pip/wheels/03/57/cc/290c5252ec97a6d78d36479a3c5e5ecc76318afcb241ad9dbe\n",
            "  Building wheel for sqlitedict (setup.py) ... \u001b[?25l\u001b[?25hdone\n",
            "  Created wheel for sqlitedict: filename=sqlitedict-2.1.0-py3-none-any.whl size=16863 sha256=968c8ae57772cf261424fca85d727999a3734652b699b2845e1eb82780756534\n",
            "  Stored in directory: /root/.cache/pip/wheels/79/d6/e7/304e0e6cb2221022c26d8161f7c23cd4f259a9e41e8bbcfabd\n",
            "Successfully built sentence_transformers hnswlib easyllm ffmpy rouge-score pycountry sqlitedict\n",
            "Installing collected packages: texttable, sqlitedict, sentencepiece, pydub, nanoid, ffmpy, distlib, zstandard, websockets, virtualenv, typing-extensions, tomlkit, tcolorpy, shellingham, semantic-version, python-multipart, pyproject-api, pycountry, pybind11, pyarrow-hotfix, portalocker, pathvalidate, orjson, ordered-set, mbstrdecoder, jsonlines, humanfriendly, hnswlib, h11, dill, coverage, colorama, blessings, annotated-types, aiofiles, uvicorn, typepy, tqdm-multiprocess, tox, starlette, sacrebleu, rouge-score, pydantic-core, multiprocess, huggingface_hub, httpcore, deepdiff, colour-runner, coloredlogs, codecov, rootpath, pydantic, httpx, accelerate, openai, inspecta, gradio-client, fastapi, easyllm, datasets, DataProperty, tabledata, sentence_transformers, gradio, attributedict, pytablewriter, lm-eval, autoawq\n",
            "  Attempting uninstall: typing-extensions\n",
            "    Found existing installation: typing_extensions 4.5.0\n",
            "    Uninstalling typing_extensions-4.5.0:\n",
            "      Successfully uninstalled typing_extensions-4.5.0\n",
            "  Attempting uninstall: huggingface_hub\n",
            "    Found existing installation: huggingface-hub 0.19.4\n",
            "    Uninstalling huggingface-hub-0.19.4:\n",
            "      Successfully uninstalled huggingface-hub-0.19.4\n",
            "  Attempting uninstall: pydantic\n",
            "    Found existing installation: pydantic 1.10.13\n",
            "    Uninstalling pydantic-1.10.13:\n",
            "      Successfully uninstalled pydantic-1.10.13\n",
            "\u001b[31mERROR: pip's dependency resolver does not currently take into account all the packages that are installed. This behaviour is the source of the following dependency conflicts.\n",
            "lida 0.0.10 requires kaleido, which is not installed.\n",
            "llmx 0.0.15a0 requires cohere, which is not installed.\n",
            "llmx 0.0.15a0 requires tiktoken, which is not installed.\n",
            "tensorflow-probability 0.22.0 requires typing-extensions<4.6.0, but you have typing-extensions 4.8.0 which is incompatible.\u001b[0m\u001b[31m\n",
            "\u001b[0mSuccessfully installed DataProperty-1.0.1 accelerate-0.25.0 aiofiles-23.2.1 annotated-types-0.6.0 attributedict-0.3.0 autoawq-0.1.7 blessings-1.7 codecov-2.1.13 colorama-0.4.6 coloredlogs-15.0.1 colour-runner-0.1.1 coverage-7.3.2 datasets-2.14.7 deepdiff-6.7.1 dill-0.3.7 distlib-0.3.7 easyllm-0.7.0.dev0 fastapi-0.104.1 ffmpy-0.3.1 gradio-4.7.1 gradio-client-0.7.0 h11-0.14.0 hnswlib-0.7.0 httpcore-1.0.2 httpx-0.25.2 huggingface_hub-0.16.4 humanfriendly-10.0 inspecta-0.1.3 jsonlines-4.0.0 lm-eval-0.3.0 mbstrdecoder-1.1.3 multiprocess-0.70.15 nanoid-2.0.0 openai-1.3.7 ordered-set-4.1.0 orjson-3.9.10 pathvalidate-3.2.0 portalocker-2.8.2 pyarrow-hotfix-0.6 pybind11-2.11.1 pycountry-22.3.5 pydantic-2.1.1 pydantic-core-2.4.0 pydub-0.25.1 pyproject-api-1.6.1 pytablewriter-1.2.0 python-multipart-0.0.6 rootpath-0.1.1 rouge-score-0.1.2 sacrebleu-1.5.0 semantic-version-2.10.0 sentence_transformers-2.2.2 sentencepiece-0.1.99 shellingham-1.5.4 sqlitedict-2.1.0 starlette-0.27.0 tabledata-1.3.3 tcolorpy-0.1.4 texttable-1.7.0 tomlkit-0.12.0 tox-4.11.4 tqdm-multiprocess-0.0.11 typepy-1.3.2 typing-extensions-4.8.0 uvicorn-0.24.0.post1 virtualenv-20.25.0 websockets-11.0.3 zstandard-0.22.0\n"
          ]
        }
      ],
      "source": [
        "!pip install -r /content/AVA/requirements.txt"
      ]
    },
    {
      "cell_type": "code",
      "execution_count": null,
      "metadata": {
        "colab": {
          "base_uri": "https://localhost:8080/"
        },
        "id": "HnKEMcf0LnbG",
        "outputId": "d42a87d4-6036-473b-b5a2-23ae2b4c9764"
      },
      "outputs": [
        {
          "name": "stdout",
          "output_type": "stream",
          "text": [
            "Collecting gradio\n",
            "  Downloading gradio-4.7.1-py3-none-any.whl (16.5 MB)\n",
            "\u001b[2K     \u001b[91m━━━━━━━━━━━━━━━━━━━━━━━━━━━━━━━━━━━━━━━\u001b[0m\u001b[91m╸\u001b[0m \u001b[32m16.5/16.5 MB\u001b[0m \u001b[31m79.4 MB/s\u001b[0m eta \u001b[36m0:00:01\u001b[0m\n",
            "\u001b[?25h\u001b[31mERROR: Operation cancelled by user\u001b[0m\u001b[31m\n",
            "\u001b[0m"
          ]
        }
      ],
      "source": [
        "!pip install gradio"
      ]
    },
    {
      "cell_type": "code",
      "execution_count": null,
      "metadata": {
        "colab": {
          "base_uri": "https://localhost:8080/"
        },
        "id": "nrq6W7G-IxJ4",
        "outputId": "66d161cd-a88a-45ea-a51f-30329f090f5f"
      },
      "outputs": [
        {
          "output_type": "stream",
          "name": "stdout",
          "text": [
            "Running on device: cpu\n",
            "CPU threads: 1\n",
            "Running on local URL:  http://127.0.0.1:7860\n",
            "Running on public URL: https://8dc177e57753955f5a.gradio.live\n",
            "\n",
            "This share link expires in 72 hours. For free permanent hosting and GPU upgrades, run `gradio deploy` from Terminal to deploy to Spaces (https://huggingface.co/spaces)\n",
            "['id:737\\n      Tweet: On this date in 1769, Joseph Cugnot created \"Fardier à Vapeur,\" a 3-wheeled, steam-powered vehicle. Some call it the world\\'s first car. #OTD <hyperlink>\\n      Date: 2019-02-26 12:20:00\\n      Username: AAASouthJersey\\n      Company: aaa\\n      like:0', 'id:329\\n      Tweet: Can you guess the name of the car manufacturer 🚗👇? <hyperlink>\\n      Date: 2019-12-06 16:20:12\\n      Username: TheAACars\\n      Company: aa\\n      like:0', 'id:335\\n      Tweet: While renting a car is relatively easy, the first time or non-frequent renter may come across some parts of the process that may be confusing. Here are things to consider. <hyperlink> #TheBrakedown <hyperlink>\\n      Date: 2019-04-10 16:00:01\\n      Username: AAAClubAlliance\\n      Company: aaa\\n      like:0', 'id:626\\n      Tweet: Set a good example for your teen driver!  Make your car a no phone zone. #DontDriveDistracted <hyperlink>\\n      Date: 2018-08-08 19:10:01\\n      Username: AAAOklahoma\\n      Company: aaa\\n      like:0', 'id:120\\n      Tweet: The thrill of cold-blooded precision taken to a whole new level. New #Peugeot508SW <hyperlink>\\n      Date: 2019-05-26 19:45:13\\n      Username: Peugeot\\n      Company: peugeot\\n      like:211', \"id:358\\n      Tweet: It's Irish Road Safety Week! \\nDownload the Toyota FaceItDown App &amp; get rewarded with points for every KM you drive without picking up your mobile, which you can redeem for a hot drink at <mention> ReStore outlets or €50 off <mention> car insurance! \\n#BuiltForABetterWorld <hyperlink>\\n      Date: 2018-10-05 16:06:45\\n      Username: toyotaireland\\n      Company: toyota\\n      like:4\", 'id:449\\n      Tweet: Are drivers or pedestrians to blame for bad street safety?\\nWhat can we do to reduce risk on the roads?\\nAre BMW drivers really the most aggressive drivers?\\n\\nThose are just some the questions <mention> put to a driving instructor to answer:\\n<hyperlink> <hyperlink>\\n      Date: 2019-12-05 03:43:00\\n      Username: cbcnewsbc\\n      Company: cbc\\n      like:48', \"id:827\\n      Tweet: Happy 'Love Your Pet' Day! \\n\\nShould you break down with your pet in the car, we will make every effort to ensure your pet is safe.\\n\\nFind out more about becoming an AA Member: <hyperlink> <hyperlink>\\n      Date: 2020-02-20 07:00:56\\n      Username: AASouthAfrica\\n      Company: aa\\n      like:0\", 'id:380\\n      Tweet: Make a plan and remember to choose a designated driver before heading out this weekend. #DriveSober <hyperlink>\\n      Date: 2019-01-19 23:00:01\\n      Username: AAAClubAlliance\\n      Company: aaa\\n      like:0', 'id:353\\n      Tweet: A cruel blow for <mention> 😔 #ImolaGP 🇮🇹 #F1 \\n\\n<hyperlink>\\n      Date: 2020-11-01 15:52:43\\n      Username: redbullracing\\n      Company: oracle\\n      like:1995']\n",
            "qa_prompt='Use the following pieces of context given in to answer the question at the end. If you don\\'t know the answer, just say that you don\\'t know, don\\'t try to make up an answer. Keep the answer short and succinct.\\n        \\nContext: id:737\\n      Tweet: On this date in 1769, Joseph Cugnot created \"Fardier à Vapeur,\" a 3-wheeled, steam-powered vehicle. Some call it the world\\'s first car. #OTD <hyperlink>\\n      Date: 2019-02-26 12:20:00\\n      Username: AAASouthJersey\\n      Company: aaa\\n      like:0 id:329\\n      Tweet: Can you guess the name of the car manufacturer 🚗👇? <hyperlink>\\n      Date: 2019-12-06 16:20:12\\n      Username: TheAACars\\n      Company: aa\\n      like:0 id:335\\n      Tweet: While renting a car is relatively easy, the first time or non-frequent renter may come across some parts of the process that may be confusing. Here are things to consider. <hyperlink> #TheBrakedown <hyperlink>\\n      Date: 2019-04-10 16:00:01\\n      Username: AAAClubAlliance\\n      Company: aaa\\n      like:0 id:626\\n      Tweet: Set a good example for your teen driver!  Make your car a no phone zone. #DontDriveDistracted <hyperlink>\\n      Date: 2018-08-08 19:10:01\\n      Username: AAAOklahoma\\n      Company: aaa\\n      like:0 id:120\\n      Tweet: The thrill of cold-blooded precision taken to a whole new level. New #Peugeot508SW <hyperlink>\\n      Date: 2019-05-26 19:45:13\\n      Username: Peugeot\\n      Company: peugeot\\n      like:211 id:358\\n      Tweet: It\\'s Irish Road Safety Week! \\nDownload the Toyota FaceItDown App &amp; get rewarded with points for every KM you drive without picking up your mobile, which you can redeem for a hot drink at <mention> ReStore outlets or €50 off <mention> car insurance! \\n#BuiltForABetterWorld <hyperlink>\\n      Date: 2018-10-05 16:06:45\\n      Username: toyotaireland\\n      Company: toyota\\n      like:4 id:449\\n      Tweet: Are drivers or pedestrians to blame for bad street safety?\\nWhat can we do to reduce risk on the roads?\\nAre BMW drivers really the most aggressive drivers?\\n\\nThose are just some the questions <mention> put to a driving instructor to answer:\\n<hyperlink> <hyperlink>\\n      Date: 2019-12-05 03:43:00\\n      Username: cbcnewsbc\\n      Company: cbc\\n      like:48 id:827\\n      Tweet: Happy \\'Love Your Pet\\' Day! \\n\\nShould you break down with your pet in the car, we will make every effort to ensure your pet is safe.\\n\\nFind out more about becoming an AA Member: <hyperlink> <hyperlink>\\n      Date: 2020-02-20 07:00:56\\n      Username: AASouthAfrica\\n      Company: aa\\n      like:0 id:380\\n      Tweet: Make a plan and remember to choose a designated driver before heading out this weekend. #DriveSober <hyperlink>\\n      Date: 2019-01-19 23:00:01\\n      Username: AAAClubAlliance\\n      Company: aaa\\n      like:0 id:353\\n      Tweet: A cruel blow for <mention> 😔 #ImolaGP 🇮🇹 #F1 \\n\\n<hyperlink>\\n      Date: 2020-11-01 15:52:43\\n      Username: redbullracing\\n      Company: oracle\\n      like:1995\\nQuestion: car\\nHelpful Answer: '\n",
            "['id:101\\n      Tweet: An amazing night with the incredible <mention> . 💜 #CryPrettyTour360 \\n\\n📸: <mention> <hyperlink>\\n      Date: 2019-06-22 02:42:09\\n      Username: TargetCenterMN\\n      Company: target\\n      like:72', \"id:459\\n      Tweet: When <mention> and <mention> make music together, you know it's gonna get your foot tapping 🕺 \\nGroove to #NoPelli on <mention>\\n🎧 <hyperlink>\\n\\n#SoloBrathukeSoBetter <mention> <mention> <mention> <hyperlink>\\n      Date: 2020-05-28 13:01:58\\n      Username: AmazonMusicIN\\n      Company: amazon\\n      like:610\", \"id:310\\n      Tweet: Think you've heard <mention>? Think again! With a string quartet, the drum-and-synth duo will bring their latest album to life in a way you've never seen before.\\n\\nBe the first ones to catch Heart Disk in a whole new way, Get your tickets to Pune now: <hyperlink> <hyperlink>\\n      Date: 2018-09-30 07:10:10\\n      Username: NH7\\n      Company: bacardi\\n      like:0\", \"id:363\\n      Tweet: The only time I'll ever be lucky enough to lineup alongside <mention> 👊👊😀👍 <mention> <hyperlink>\\n      Date: 2020-11-17 23:00:20\\n      Username: thepaulwilliams\\n      Company: williams\\n      like:213\", 'id:955\\n      Tweet: Weekend 2 <mention> checklist:\\n✅ Have fun with friends\\n✅ Jam to your favorite artists\\n✅ Stay hydrated with unlimited H2O at the #HeinekenHouse\\n✅ Enjoy responsibly\\n😎 Repeat <hyperlink>\\n      Date: 2018-04-19 18:40:12\\n      Username: Heineken_US\\n      Company: heineken\\n      like:322', 'id:543\\n      Tweet: We are LIVE at the #NieuwStatendam Dedication with Godmother <mention>! Join us: <hyperlink> <hyperlink>\\n      Date: 2019-02-02 18:59:57\\n      Username: HALcruises\\n      Company: holland america line\\n      like:56', 'id:714\\n      Tweet: Are you ready for <mention> at #FillUpRoyalBafokeng faves?!\\n\\nHae du! See you there, fam. 🙌🏾 #DontLiveLifeNje, live a #GalaxyA30s life! <hyperlink>\\n      Date: 2019-12-15 13:21:56\\n      Username: SamsungMobileSA\\n      Company: samsung\\n      like:285', 'id:44\\n      Tweet: Can you spot <mention> killing it on stage? #BacardiNH7 <hyperlink>\\n      Date: 2019-01-19 15:22:38\\n      Username: NH7\\n      Company: bacardi\\n      like:2', 'id:98\\n      Tweet: #HappyDiwali to all those celebrating! <hyperlink>\\n      Date: 2018-11-07 17:36:27\\n      Username: TD_Canada\\n      Company: td\\n      like:104', 'id:460\\n      Tweet: 👊 Rock hard… #NextAtAcer <hyperlink>\\n      Date: 2020-06-17 09:44:08\\n      Username: Acer\\n      Company: acer\\n      like:110']\n",
            "qa_prompt=\"Use the following pieces of context given in to answer the question at the end. If you don't know the answer, just say that you don't know, don't try to make up an answer. Keep the answer short and succinct.\\n        \\nContext: id:101\\n      Tweet: An amazing night with the incredible <mention> . 💜 #CryPrettyTour360 \\n\\n📸: <mention> <hyperlink>\\n      Date: 2019-06-22 02:42:09\\n      Username: TargetCenterMN\\n      Company: target\\n      like:72 id:459\\n      Tweet: When <mention> and <mention> make music together, you know it's gonna get your foot tapping 🕺 \\nGroove to #NoPelli on <mention>\\n🎧 <hyperlink>\\n\\n#SoloBrathukeSoBetter <mention> <mention> <mention> <hyperlink>\\n      Date: 2020-05-28 13:01:58\\n      Username: AmazonMusicIN\\n      Company: amazon\\n      like:610 id:310\\n      Tweet: Think you've heard <mention>? Think again! With a string quartet, the drum-and-synth duo will bring their latest album to life in a way you've never seen before.\\n\\nBe the first ones to catch Heart Disk in a whole new way, Get your tickets to Pune now: <hyperlink> <hyperlink>\\n      Date: 2018-09-30 07:10:10\\n      Username: NH7\\n      Company: bacardi\\n      like:0 id:363\\n      Tweet: The only time I'll ever be lucky enough to lineup alongside <mention> 👊👊😀👍 <mention> <hyperlink>\\n      Date: 2020-11-17 23:00:20\\n      Username: thepaulwilliams\\n      Company: williams\\n      like:213 id:955\\n      Tweet: Weekend 2 <mention> checklist:\\n✅ Have fun with friends\\n✅ Jam to your favorite artists\\n✅ Stay hydrated with unlimited H2O at the #HeinekenHouse\\n✅ Enjoy responsibly\\n😎 Repeat <hyperlink>\\n      Date: 2018-04-19 18:40:12\\n      Username: Heineken_US\\n      Company: heineken\\n      like:322 id:543\\n      Tweet: We are LIVE at the #NieuwStatendam Dedication with Godmother <mention>! Join us: <hyperlink> <hyperlink>\\n      Date: 2019-02-02 18:59:57\\n      Username: HALcruises\\n      Company: holland america line\\n      like:56 id:714\\n      Tweet: Are you ready for <mention> at #FillUpRoyalBafokeng faves?!\\n\\nHae du! See you there, fam. 🙌🏾 #DontLiveLifeNje, live a #GalaxyA30s life! <hyperlink>\\n      Date: 2019-12-15 13:21:56\\n      Username: SamsungMobileSA\\n      Company: samsung\\n      like:285 id:44\\n      Tweet: Can you spot <mention> killing it on stage? #BacardiNH7 <hyperlink>\\n      Date: 2019-01-19 15:22:38\\n      Username: NH7\\n      Company: bacardi\\n      like:2 id:98\\n      Tweet: #HappyDiwali to all those celebrating! <hyperlink>\\n      Date: 2018-11-07 17:36:27\\n      Username: TD_Canada\\n      Company: td\\n      like:104 id:460\\n      Tweet: 👊 Rock hard… #NextAtAcer <hyperlink>\\n      Date: 2020-06-17 09:44:08\\n      Username: Acer\\n      Company: acer\\n      like:110\\nQuestion: id:1018\\n      Tweet: <mention>, <mention>, <mention>, and #Kalamkaar are bringing straight 🔥 to the <mention> stage tonight! Get ready to #LiveLifeinColour and vibe with the best! ;)\\n\\n#BacardiNH7 #happiestmusicfestival #DoWhatMovesYou #HappyAtHome <hyperlink>\\n      Date: 2020-12-06 09:09:15\\n      Username: NH7\\n      Company: bacardi\\nHelpful Answer: \"\n",
            "[\"id:904\\n      Tweet: A school near Dufferin and Dundas that's been empty for 15 years has been offered to the city to use as a shelter for refugees: <hyperlink> <hyperlink>\\n      Date: 2018-09-29 00:00:08\\n      Username: CBCToronto\\n      Company: cbc\\n      like:79\", 'id:800\\n      Tweet: Emergency Student Benefit gets a failing grade - just make the CERB universal <hyperlink> <hyperlink>\\n      Date: 2020-04-23 08:27:08\\n      Username: CBCCanada\\n      Company: cbc\\n      like:266', \"id:563\\n      Tweet: Toronto's Fort York has fallen to an adorable group of invaders <hyperlink> <hyperlink>\\n      Date: 2018-05-10 22:30:05\\n      Username: CBCToronto\\n      Company: cbc\\n      like:58\", \"id:528\\n      Tweet: Teepees outside Calgary courthouse are more than a protest — they're a healing space <hyperlink> <hyperlink>\\n      Date: 2018-04-30 14:25:24\\n      Username: CBCIndigenous\\n      Company: cbc\\n      like:87\", \"id:818\\n      Tweet: New Speaker says he'll evict Wilson-Raybould if she doesn't leave willingly <hyperlink> #hw #cdnpoli <hyperlink>\\n      Date: 2019-12-13 22:11:25\\n      Username: CBCPolitics\\n      Company: cbc\\n      like:44\", \"id:321\\n      Tweet: 'I saw the light': How a group of Bathurst, N.B. students brought sunlight into seniors' lives: <hyperlink> <hyperlink>\\n      Date: 2019-03-02 01:42:41\\n      Username: CBCNB\\n      Company: cbc\\n      like:44\", 'id:999\\n      Tweet: U.S. citizens living in Canada wish election was over by now <hyperlink> <hyperlink>\\n      Date: 2020-11-05 04:02:15\\n      Username: CBCToronto\\n      Company: cbc\\n      like:46', 'id:910\\n      Tweet: 12-year-old B.C. boy rescues starving, orphaned bear cub  <hyperlink> <hyperlink>\\n      Date: 2019-12-13 08:21:47\\n      Username: cbcnewsbc\\n      Company: cbc\\n      like:113', 'id:395\\n      Tweet: After Anne-Marie D’Amico died in last year’s deadly van attack, her family started a foundation in her name to help abuse victims start a new life. Now, they’re using donated money to build a women’s shelter in North York. Read more: <hyperlink> <hyperlink>\\n      Date: 2019-11-29 17:00:36\\n      Username: CBCToronto\\n      Company: cbc\\n      like:335', 'id:498\\n      Tweet: Starting this weekend, you can skate under the Gardiner <hyperlink> <hyperlink>\\n      Date: 2018-01-05 15:49:51\\n      Username: CBCToronto\\n      Company: cbc\\n      like:175']\n",
            "qa_prompt=\"Use the following pieces of context given in to answer the question at the end. If you don't know the answer, just say that you don't know, don't try to make up an answer. Keep the answer short and succinct.\\n        \\nContext: id:904\\n      Tweet: A school near Dufferin and Dundas that's been empty for 15 years has been offered to the city to use as a shelter for refugees: <hyperlink> <hyperlink>\\n      Date: 2018-09-29 00:00:08\\n      Username: CBCToronto\\n      Company: cbc\\n      like:79 id:800\\n      Tweet: Emergency Student Benefit gets a failing grade - just make the CERB universal <hyperlink> <hyperlink>\\n      Date: 2020-04-23 08:27:08\\n      Username: CBCCanada\\n      Company: cbc\\n      like:266 id:563\\n      Tweet: Toronto's Fort York has fallen to an adorable group of invaders <hyperlink> <hyperlink>\\n      Date: 2018-05-10 22:30:05\\n      Username: CBCToronto\\n      Company: cbc\\n      like:58 id:528\\n      Tweet: Teepees outside Calgary courthouse are more than a protest — they're a healing space <hyperlink> <hyperlink>\\n      Date: 2018-04-30 14:25:24\\n      Username: CBCIndigenous\\n      Company: cbc\\n      like:87 id:818\\n      Tweet: New Speaker says he'll evict Wilson-Raybould if she doesn't leave willingly <hyperlink> #hw #cdnpoli <hyperlink>\\n      Date: 2019-12-13 22:11:25\\n      Username: CBCPolitics\\n      Company: cbc\\n      like:44 id:321\\n      Tweet: 'I saw the light': How a group of Bathurst, N.B. students brought sunlight into seniors' lives: <hyperlink> <hyperlink>\\n      Date: 2019-03-02 01:42:41\\n      Username: CBCNB\\n      Company: cbc\\n      like:44 id:999\\n      Tweet: U.S. citizens living in Canada wish election was over by now <hyperlink> <hyperlink>\\n      Date: 2020-11-05 04:02:15\\n      Username: CBCToronto\\n      Company: cbc\\n      like:46 id:910\\n      Tweet: 12-year-old B.C. boy rescues starving, orphaned bear cub  <hyperlink> <hyperlink>\\n      Date: 2019-12-13 08:21:47\\n      Username: cbcnewsbc\\n      Company: cbc\\n      like:113 id:395\\n      Tweet: After Anne-Marie D’Amico died in last year’s deadly van attack, her family started a foundation in her name to help abuse victims start a new life. Now, they’re using donated money to build a women’s shelter in North York. Read more: <hyperlink> <hyperlink>\\n      Date: 2019-11-29 17:00:36\\n      Username: CBCToronto\\n      Company: cbc\\n      like:335 id:498\\n      Tweet: Starting this weekend, you can skate under the Gardiner <hyperlink> <hyperlink>\\n      Date: 2018-01-05 15:49:51\\n      Username: CBCToronto\\n      Company: cbc\\n      like:175\\nQuestion:  id:904\\n      Tweet: A school near Dufferin and Dundas that's been empty for 15 years has been offered to the city to use as a shelter for refugees: <hyperlink> <hyperlink>\\n      Date: 2018-09-29 00:00:08\\n      Username: CBCToronto\\n      Company: cbc\\nHelpful Answer: \"\n",
            "condensed_query=\"Given the following conversation and a follow up question, rephrase the follow up question to be a standalone question in its original language. Output the json object with single field `question` and value being the rephrased standalone question. \\nOnly output json object and nothing else.\\nChat History:\\nHuman: ``` id:904\\nTweet: A school near Dufferin and Dundas that's been empty for 15 years has been offered to the city to use as a shelter for refugees: <hyperlink> <hyperlink>\\nDate: 2018-09-29 00:00:08\\nUsername: CBCToronto\\nCompany: cbc```\\nAssistant: ```Use the following pieces of context given in to answer the question at the end. If you don't know the answer, just say that you don't know, don't try to make up an answer. Keep the answer short and succinct.\\n        \\nContext: id:904\\n      Tweet: A school near Dufferin and Dundas that's been empty for 15 years has been offered to the city to use as a shelter for refugees: <hyperlink> <hyperlink>\\n      Date: 2018-09-29 00:00:08\\n      Username: CBCToronto\\n      Company: cbc\\n      like:79 id:800\\n      Tweet: Emergency Student Benefit gets a failing grade - just make the CERB universal <hyperlink> <hyperlink>\\n      Date: 2020-04-23 08:27:08\\n      Username: CBCCanada\\n      Company: cbc\\n      like:266 id:563\\n      Tweet: Toronto's Fort York has fallen to an adorable group of invaders <hyperlink> <hyperlink>\\n      Date: 2018-05-10 22:30:05\\n      Username: CBCToronto\\n      Company: cbc\\n      like:58 id:528\\n      Tweet: Teepees outside Calgary courthouse are more than a protest — they're a healing space <hyperlink> <hyperlink>\\n      Date: 2018-04-30 14:25:24\\n      Username: CBCIndigenous\\n      Company: cbc\\n      like:87 id:818\\n      Tweet: New Speaker says he'll evict Wilson-Raybould if she doesn't leave willingly <hyperlink> #hw #cdnpoli <hyperlink>\\n      Date: 2019-12-13 22:11:25\\n      Username: CBCPolitics\\n      Company: cbc\\n      like:44 id:321\\n      Tweet: 'I saw the light': How a group of Bathurst, N.B. students brought sunlight into seniors' lives: <hyperlink> <hyperlink>\\n      Date: 2019-03-02 01:42:41\\n      Username: CBCNB\\n      Company: cbc\\n      like:44 id:999\\n      Tweet: U.S. citizens living in Canada wish election was over by now <hyperlink> <hyperlink>\\n      Date: 2020-11-05 04:02:15\\n      Username: CBCToronto\\n      Company: cbc\\n      like:46 id:910\\n      Tweet: 12-year-old B.C. boy rescues starving, orphaned bear cub  <hyperlink> <hyperlink>\\n      Date: 2019-12-13 08:21:47\\n      Username: cbcnewsbc\\n      Company: cbc\\n      like:113 id:395\\n      Tweet: After Anne-Marie D’Amico died in last year’s deadly van attack, her family started a foundation in her name to help abuse victims start a new life. Now, they’re using donated money to build a women’s shelter in North York. Read more: <hyperlink> <hyperlink>\\n      Date: 2019-11-29 17:00:36\\n      Username: CBCToronto\\n      Company: cbc\\n      like:335 id:498\\n      Tweet: Starting this weekend, you can skate under the Gardiner <hyperlink> <hyperlink>\\n      Date: 2018-01-05 15:49:51\\n      Username: CBCToronto\\n      Company: cbc\\n      like:175\\nQuestion:  id:904\\n      Tweet: A school near Dufferin and Dundas that's been empty for 15 years has been offered to the city to use as a shelter for refugees: <hyperlink> <hyperlink>\\n      Date: 2018-09-29 00:00:08\\n      Username: CBCToronto\\n      Company: cbc\\nHelpful Answer: ```\\n\\nFollow Up Input: huu\\n\"\n",
            "[\"id:904\\n      Tweet: A school near Dufferin and Dundas that's been empty for 15 years has been offered to the city to use as a shelter for refugees: <hyperlink> <hyperlink>\\n      Date: 2018-09-29 00:00:08\\n      Username: CBCToronto\\n      Company: cbc\\n      like:79\", \"id:528\\n      Tweet: Teepees outside Calgary courthouse are more than a protest — they're a healing space <hyperlink> <hyperlink>\\n      Date: 2018-04-30 14:25:24\\n      Username: CBCIndigenous\\n      Company: cbc\\n      like:87\", \"id:563\\n      Tweet: Toronto's Fort York has fallen to an adorable group of invaders <hyperlink> <hyperlink>\\n      Date: 2018-05-10 22:30:05\\n      Username: CBCToronto\\n      Company: cbc\\n      like:58\", \"id:818\\n      Tweet: New Speaker says he'll evict Wilson-Raybould if she doesn't leave willingly <hyperlink> #hw #cdnpoli <hyperlink>\\n      Date: 2019-12-13 22:11:25\\n      Username: CBCPolitics\\n      Company: cbc\\n      like:44\", 'id:999\\n      Tweet: U.S. citizens living in Canada wish election was over by now <hyperlink> <hyperlink>\\n      Date: 2020-11-05 04:02:15\\n      Username: CBCToronto\\n      Company: cbc\\n      like:46', 'id:796\\n      Tweet: Trudeau fires John McCallum as ambassador to China <hyperlink> #hw #cdnpoli <hyperlink>\\n      Date: 2019-01-26 19:55:39\\n      Username: CBCPolitics\\n      Company: cbc\\n      like:63', 'id:480\\n      Tweet: Join me, #BlackLivesMatter co-founder <mention>, UC Berkeley\\'s <mention>, &amp; <mention>\\'s <mention> for a night of \"How did we get here?\" &amp; \"How do we get out of here?\" We promise to make more sense than the #IowaCaucas. \\n\\nFeb 26, 730p, <mention>\\n\\n<hyperlink> <hyperlink>\\n      Date: 2020-02-07 00:39:16\\n      Username: wkamaubell\\n      Company: bell\\n      like:221', 'id:800\\n      Tweet: Emergency Student Benefit gets a failing grade - just make the CERB universal <hyperlink> <hyperlink>\\n      Date: 2020-04-23 08:27:08\\n      Username: CBCCanada\\n      Company: cbc\\n      like:266', 'id:297\\n      Tweet: The classics. #TBT <hyperlink>\\n      Date: 2019-05-09 20:43:27\\n      Username: CBC\\n      Company: cbc\\n      like:293', 'id:498\\n      Tweet: Starting this weekend, you can skate under the Gardiner <hyperlink> <hyperlink>\\n      Date: 2018-01-05 15:49:51\\n      Username: CBCToronto\\n      Company: cbc\\n      like:175']\n",
            "qa_prompt='Use the following pieces of context given in to answer the question at the end. If you don\\'t know the answer, just say that you don\\'t know, don\\'t try to make up an answer. Keep the answer short and succinct.\\n        \\nContext: id:904\\n      Tweet: A school near Dufferin and Dundas that\\'s been empty for 15 years has been offered to the city to use as a shelter for refugees: <hyperlink> <hyperlink>\\n      Date: 2018-09-29 00:00:08\\n      Username: CBCToronto\\n      Company: cbc\\n      like:79 id:528\\n      Tweet: Teepees outside Calgary courthouse are more than a protest — they\\'re a healing space <hyperlink> <hyperlink>\\n      Date: 2018-04-30 14:25:24\\n      Username: CBCIndigenous\\n      Company: cbc\\n      like:87 id:563\\n      Tweet: Toronto\\'s Fort York has fallen to an adorable group of invaders <hyperlink> <hyperlink>\\n      Date: 2018-05-10 22:30:05\\n      Username: CBCToronto\\n      Company: cbc\\n      like:58 id:818\\n      Tweet: New Speaker says he\\'ll evict Wilson-Raybould if she doesn\\'t leave willingly <hyperlink> #hw #cdnpoli <hyperlink>\\n      Date: 2019-12-13 22:11:25\\n      Username: CBCPolitics\\n      Company: cbc\\n      like:44 id:999\\n      Tweet: U.S. citizens living in Canada wish election was over by now <hyperlink> <hyperlink>\\n      Date: 2020-11-05 04:02:15\\n      Username: CBCToronto\\n      Company: cbc\\n      like:46 id:796\\n      Tweet: Trudeau fires John McCallum as ambassador to China <hyperlink> #hw #cdnpoli <hyperlink>\\n      Date: 2019-01-26 19:55:39\\n      Username: CBCPolitics\\n      Company: cbc\\n      like:63 id:480\\n      Tweet: Join me, #BlackLivesMatter co-founder <mention>, UC Berkeley\\'s <mention>, &amp; <mention>\\'s <mention> for a night of \"How did we get here?\" &amp; \"How do we get out of here?\" We promise to make more sense than the #IowaCaucas. \\n\\nFeb 26, 730p, <mention>\\n\\n<hyperlink> <hyperlink>\\n      Date: 2020-02-07 00:39:16\\n      Username: wkamaubell\\n      Company: bell\\n      like:221 id:800\\n      Tweet: Emergency Student Benefit gets a failing grade - just make the CERB universal <hyperlink> <hyperlink>\\n      Date: 2020-04-23 08:27:08\\n      Username: CBCCanada\\n      Company: cbc\\n      like:266 id:297\\n      Tweet: The classics. #TBT <hyperlink>\\n      Date: 2019-05-09 20:43:27\\n      Username: CBC\\n      Company: cbc\\n      like:293 id:498\\n      Tweet: Starting this weekend, you can skate under the Gardiner <hyperlink> <hyperlink>\\n      Date: 2018-01-05 15:49:51\\n      Username: CBCToronto\\n      Company: cbc\\n      like:175\\nQuestion: Given the following conversation and a follow up question, rephrase the follow up question to be a standalone question in its original language. Output the json object with single field `question` and value being the rephrased standalone question. \\nOnly output json object and nothing else.\\nChat History:\\nHuman: ``` id:904\\nTweet: A school near Dufferin and Dundas that\\'s been empty for 15 years has been offered to the city to use as a shelter for refugees: <hyperlink> <hyperlink>\\nDate: 2018-09-29 00:00:08\\nUsername: CBCToronto\\nCompany: cbc```\\nAssistant: ```Use the following pieces of context given in to answer the question at the end. If you don\\'t know the answer, just say that you don\\'t know, don\\'t try to make up an answer. Keep the answer short and succinct.\\n        \\nContext: id:904\\n      Tweet: A school near Dufferin and Dundas that\\'s been empty for 15 years has been offered to the city to use as a shelter for refugees: <hyperlink> <hyperlink>\\n      Date: 2018-09-29 00:00:08\\n      Username: CBCToronto\\n      Company: cbc\\n      like:79 id:800\\n      Tweet: Emergency Student Benefit gets a failing grade - just make the CERB universal <hyperlink> <hyperlink>\\n      Date: 2020-04-23 08:27:08\\n      Username: CBCCanada\\n      Company: cbc\\n      like:266 id:563\\n      Tweet: Toronto\\'s Fort York has fallen to an adorable group of invaders <hyperlink> <hyperlink>\\n      Date: 2018-05-10 22:30:05\\n      Username: CBCToronto\\n      Company: cbc\\n      like:58 id:528\\n      Tweet: Teepees outside Calgary courthouse are more than a protest — they\\'re a healing space <hyperlink> <hyperlink>\\n      Date: 2018-04-30 14:25:24\\n      Username: CBCIndigenous\\n      Company: cbc\\n      like:87 id:818\\n      Tweet: New Speaker says he\\'ll evict Wilson-Raybould if she doesn\\'t leave willingly <hyperlink> #hw #cdnpoli <hyperlink>\\n      Date: 2019-12-13 22:11:25\\n      Username: CBCPolitics\\n      Company: cbc\\n      like:44 id:321\\n      Tweet: \\'I saw the light\\': How a group of Bathurst, N.B. students brought sunlight into seniors\\' lives: <hyperlink> <hyperlink>\\n      Date: 2019-03-02 01:42:41\\n      Username: CBCNB\\n      Company: cbc\\n      like:44 id:999\\n      Tweet: U.S. citizens living in Canada wish election was over by now <hyperlink> <hyperlink>\\n      Date: 2020-11-05 04:02:15\\n      Username: CBCToronto\\n      Company: cbc\\n      like:46 id:910\\n      Tweet: 12-year-old B.C. boy rescues starving, orphaned bear cub  <hyperlink> <hyperlink>\\n      Date: 2019-12-13 08:21:47\\n      Username: cbcnewsbc\\n      Company: cbc\\n      like:113 id:395\\n      Tweet: After Anne-Marie D’Amico died in last year’s deadly van attack, her family started a foundation in her name to help abuse victims start a new life. Now, they’re using donated money to build a women’s shelter in North York. Read more: <hyperlink> <hyperlink>\\n      Date: 2019-11-29 17:00:36\\n      Username: CBCToronto\\n      Company: cbc\\n      like:335 id:498\\n      Tweet: Starting this weekend, you can skate under the Gardiner <hyperlink> <hyperlink>\\n      Date: 2018-01-05 15:49:51\\n      Username: CBCToronto\\n      Company: cbc\\n      like:175\\nQuestion:  id:904\\n      Tweet: A school near Dufferin and Dundas that\\'s been empty for 15 years has been offered to the city to use as a shelter for refugees: <hyperlink> <hyperlink>\\n      Date: 2018-09-29 00:00:08\\n      Username: CBCToronto\\n      Company: cbc\\nHelpful Answer: ```\\n\\nFollow Up Input: huu\\n\\nHelpful Answer: '\n",
            "['', 'id:153\\n      Tweet: The champ of to high school 😳 man where does time go! <mention> felt like yesterday I was taking you to nursery! <hyperlink>\\n      Date: 2019-08-14 07:08:37\\n      Username: AlexArthur1\\n      Company: aaa\\n      like:47', 'id:361\\n      Tweet: 📀 nice wee platinum plaque incoming 🙏🙏🙏👍 <hyperlink>\\n      Date: 2018-05-08 21:39:57\\n      Username: HudMo\\n      Company: hudson\\n      like:548', 'id:546\\n      Tweet: Thank you <mention>!!! 85,000 strong. <hyperlink>\\n      Date: 2019-04-29 15:26:41\\n      Username: OldDominion\\n      Company: dominion\\n      like:1554', 'id:614\\n      Tweet: Looks like Christmas came early. 😁 #DEWALTtough <hyperlink>\\n      Date: 2020-11-29 22:55:36\\n      Username: CBellRacing\\n      Company: bell\\n      like:513', 'id:345\\n      Tweet: Well <mention> and <mention> Y’all should be proud of me. <hyperlink>\\n      Date: 2020-12-05 23:02:48\\n      Username: LanceHoyt\\n      Company: monster\\n      like:1453', 'id:452\\n      Tweet: 🍾 never looked so good. #GalaxyS9 <hyperlink>\\n      Date: 2018-03-29 18:20:46\\n      Username: SamsungMobileUS\\n      Company: samsung\\n      like:205', 'id:533\\n      Tweet: Home just in time for a walk 😊 <hyperlink>\\n      Date: 2020-04-23 20:43:10\\n      Username: loreillysf\\n      Company: td\\n      like:87', 'id:564\\n      Tweet: How it started:           How it’s going: <hyperlink>\\n      Date: 2020-10-09 23:15:03\\n      Username: WalmartCAGaming\\n      Company: walmart\\n      like:429', 'id:283\\n      Tweet: Ready to hold all your essentials &gt;&gt;&gt; <hyperlink> <hyperlink>\\n      Date: 2019-06-28 22:30:06\\n      Username: FreePeople\\n      Company: free\\n      like:46']\n",
            "qa_prompt=\"Use the following pieces of context given in to answer the question at the end. If you don't know the answer, just say that you don't know, don't try to make up an answer. Keep the answer short and succinct.\\n        \\nContext:  id:153\\n      Tweet: The champ of to high school 😳 man where does time go! <mention> felt like yesterday I was taking you to nursery! <hyperlink>\\n      Date: 2019-08-14 07:08:37\\n      Username: AlexArthur1\\n      Company: aaa\\n      like:47 id:361\\n      Tweet: 📀 nice wee platinum plaque incoming 🙏🙏🙏👍 <hyperlink>\\n      Date: 2018-05-08 21:39:57\\n      Username: HudMo\\n      Company: hudson\\n      like:548 id:546\\n      Tweet: Thank you <mention>!!! 85,000 strong. <hyperlink>\\n      Date: 2019-04-29 15:26:41\\n      Username: OldDominion\\n      Company: dominion\\n      like:1554 id:614\\n      Tweet: Looks like Christmas came early. 😁 #DEWALTtough <hyperlink>\\n      Date: 2020-11-29 22:55:36\\n      Username: CBellRacing\\n      Company: bell\\n      like:513 id:345\\n      Tweet: Well <mention> and <mention> Y’all should be proud of me. <hyperlink>\\n      Date: 2020-12-05 23:02:48\\n      Username: LanceHoyt\\n      Company: monster\\n      like:1453 id:452\\n      Tweet: 🍾 never looked so good. #GalaxyS9 <hyperlink>\\n      Date: 2018-03-29 18:20:46\\n      Username: SamsungMobileUS\\n      Company: samsung\\n      like:205 id:533\\n      Tweet: Home just in time for a walk 😊 <hyperlink>\\n      Date: 2020-04-23 20:43:10\\n      Username: loreillysf\\n      Company: td\\n      like:87 id:564\\n      Tweet: How it started:           How it’s going: <hyperlink>\\n      Date: 2020-10-09 23:15:03\\n      Username: WalmartCAGaming\\n      Company: walmart\\n      like:429 id:283\\n      Tweet: Ready to hold all your essentials &gt;&gt;&gt; <hyperlink> <hyperlink>\\n      Date: 2019-06-28 22:30:06\\n      Username: FreePeople\\n      Company: free\\n      like:46\\nQuestion: Hello\\nHelpful Answer: \"\n",
            "condensed_query='Given the following conversation and a follow up question, rephrase the follow up question to be a standalone question in its original language. Output the json object with single field `question` and value being the rephrased standalone question. \\nOnly output json object and nothing else.\\nChat History:\\nHuman: `````` id:904\\nTweet: A school near Dufferin and Dundas that\\'s been empty for 15 years has been offered to the city to use as a shelter for refugees: <hyperlink> <hyperlink>\\nDate: 2018-09-29 00:00:08\\nUsername: CBCToronto\\nCompany: cbc``````\\nAssistant: ``````Use the following pieces of context given in to answer the question at the end. If you don\\'t know the answer, just say that you don\\'t know, don\\'t try to make up an answer. Keep the answer short and succinct.\\n        \\nContext: id:904\\n      Tweet: A school near Dufferin and Dundas that\\'s been empty for 15 years has been offered to the city to use as a shelter for refugees: <hyperlink> <hyperlink>\\n      Date: 2018-09-29 00:00:08\\n      Username: CBCToronto\\n      Company: cbc\\n      like:79 id:800\\n      Tweet: Emergency Student Benefit gets a failing grade - just make the CERB universal <hyperlink> <hyperlink>\\n      Date: 2020-04-23 08:27:08\\n      Username: CBCCanada\\n      Company: cbc\\n      like:266 id:563\\n      Tweet: Toronto\\'s Fort York has fallen to an adorable group of invaders <hyperlink> <hyperlink>\\n      Date: 2018-05-10 22:30:05\\n      Username: CBCToronto\\n      Company: cbc\\n      like:58 id:528\\n      Tweet: Teepees outside Calgary courthouse are more than a protest — they\\'re a healing space <hyperlink> <hyperlink>\\n      Date: 2018-04-30 14:25:24\\n      Username: CBCIndigenous\\n      Company: cbc\\n      like:87 id:818\\n      Tweet: New Speaker says he\\'ll evict Wilson-Raybould if she doesn\\'t leave willingly <hyperlink> #hw #cdnpoli <hyperlink>\\n      Date: 2019-12-13 22:11:25\\n      Username: CBCPolitics\\n      Company: cbc\\n      like:44 id:321\\n      Tweet: \\'I saw the light\\': How a group of Bathurst, N.B. students brought sunlight into seniors\\' lives: <hyperlink> <hyperlink>\\n      Date: 2019-03-02 01:42:41\\n      Username: CBCNB\\n      Company: cbc\\n      like:44 id:999\\n      Tweet: U.S. citizens living in Canada wish election was over by now <hyperlink> <hyperlink>\\n      Date: 2020-11-05 04:02:15\\n      Username: CBCToronto\\n      Company: cbc\\n      like:46 id:910\\n      Tweet: 12-year-old B.C. boy rescues starving, orphaned bear cub  <hyperlink> <hyperlink>\\n      Date: 2019-12-13 08:21:47\\n      Username: cbcnewsbc\\n      Company: cbc\\n      like:113 id:395\\n      Tweet: After Anne-Marie D’Amico died in last year’s deadly van attack, her family started a foundation in her name to help abuse victims start a new life. Now, they’re using donated money to build a women’s shelter in North York. Read more: <hyperlink> <hyperlink>\\n      Date: 2019-11-29 17:00:36\\n      Username: CBCToronto\\n      Company: cbc\\n      like:335 id:498\\n      Tweet: Starting this weekend, you can skate under the Gardiner <hyperlink> <hyperlink>\\n      Date: 2018-01-05 15:49:51\\n      Username: CBCToronto\\n      Company: cbc\\n      like:175\\nQuestion:  id:904\\n      Tweet: A school near Dufferin and Dundas that\\'s been empty for 15 years has been offered to the city to use as a shelter for refugees: <hyperlink> <hyperlink>\\n      Date: 2018-09-29 00:00:08\\n      Username: CBCToronto\\n      Company: cbc\\nHelpful Answer: ``````\\nHuman: huu\\nAssistant: ```Use the following pieces of context given in to answer the question at the end. If you don\\'t know the answer, just say that you don\\'t know, don\\'t try to make up an answer. Keep the answer short and succinct.\\n        \\nContext: id:904\\n      Tweet: A school near Dufferin and Dundas that\\'s been empty for 15 years has been offered to the city to use as a shelter for refugees: <hyperlink> <hyperlink>\\n      Date: 2018-09-29 00:00:08\\n      Username: CBCToronto\\n      Company: cbc\\n      like:79 id:528\\n      Tweet: Teepees outside Calgary courthouse are more than a protest — they\\'re a healing space <hyperlink> <hyperlink>\\n      Date: 2018-04-30 14:25:24\\n      Username: CBCIndigenous\\n      Company: cbc\\n      like:87 id:563\\n      Tweet: Toronto\\'s Fort York has fallen to an adorable group of invaders <hyperlink> <hyperlink>\\n      Date: 2018-05-10 22:30:05\\n      Username: CBCToronto\\n      Company: cbc\\n      like:58 id:818\\n      Tweet: New Speaker says he\\'ll evict Wilson-Raybould if she doesn\\'t leave willingly <hyperlink> #hw #cdnpoli <hyperlink>\\n      Date: 2019-12-13 22:11:25\\n      Username: CBCPolitics\\n      Company: cbc\\n      like:44 id:999\\n      Tweet: U.S. citizens living in Canada wish election was over by now <hyperlink> <hyperlink>\\n      Date: 2020-11-05 04:02:15\\n      Username: CBCToronto\\n      Company: cbc\\n      like:46 id:796\\n      Tweet: Trudeau fires John McCallum as ambassador to China <hyperlink> #hw #cdnpoli <hyperlink>\\n      Date: 2019-01-26 19:55:39\\n      Username: CBCPolitics\\n      Company: cbc\\n      like:63 id:480\\n      Tweet: Join me, #BlackLivesMatter co-founder <mention>, UC Berkeley\\'s <mention>, &amp; <mention>\\'s <mention> for a night of \"How did we get here?\" &amp; \"How do we get out of here?\" We promise to make more sense than the #IowaCaucas. \\n\\nFeb 26, 730p, <mention>\\n\\n<hyperlink> <hyperlink>\\n      Date: 2020-02-07 00:39:16\\n      Username: wkamaubell\\n      Company: bell\\n      like:221 id:800\\n      Tweet: Emergency Student Benefit gets a failing grade - just make the CERB universal <hyperlink> <hyperlink>\\n      Date: 2020-04-23 08:27:08\\n      Username: CBCCanada\\n      Company: cbc\\n      like:266 id:297\\n      Tweet: The classics. #TBT <hyperlink>\\n      Date: 2019-05-09 20:43:27\\n      Username: CBC\\n      Company: cbc\\n      like:293 id:498\\n      Tweet: Starting this weekend, you can skate under the Gardiner <hyperlink> <hyperlink>\\n      Date: 2018-01-05 15:49:51\\n      Username: CBCToronto\\n      Company: cbc\\n      like:175\\nQuestion: Given the following conversation and a follow up question, rephrase the follow up question to be a standalone question in its original language. Output the json object with single field `question` and value being the rephrased standalone question. \\nOnly output json object and nothing else.\\nChat History:\\nHuman: ``` id:904\\nTweet: A school near Dufferin and Dundas that\\'s been empty for 15 years has been offered to the city to use as a shelter for refugees: <hyperlink> <hyperlink>\\nDate: 2018-09-29 00:00:08\\nUsername: CBCToronto\\nCompany: cbc```\\nAssistant: ```Use the following pieces of context given in to answer the question at the end. If you don\\'t know the answer, just say that you don\\'t know, don\\'t try to make up an answer. Keep the answer short and succinct.\\n        \\nContext: id:904\\n      Tweet: A school near Dufferin and Dundas that\\'s been empty for 15 years has been offered to the city to use as a shelter for refugees: <hyperlink> <hyperlink>\\n      Date: 2018-09-29 00:00:08\\n      Username: CBCToronto\\n      Company: cbc\\n      like:79 id:800\\n      Tweet: Emergency Student Benefit gets a failing grade - just make the CERB universal <hyperlink> <hyperlink>\\n      Date: 2020-04-23 08:27:08\\n      Username: CBCCanada\\n      Company: cbc\\n      like:266 id:563\\n      Tweet: Toronto\\'s Fort York has fallen to an adorable group of invaders <hyperlink> <hyperlink>\\n      Date: 2018-05-10 22:30:05\\n      Username: CBCToronto\\n      Company: cbc\\n      like:58 id:528\\n      Tweet: Teepees outside Calgary courthouse are more than a protest — they\\'re a healing space <hyperlink> <hyperlink>\\n      Date: 2018-04-30 14:25:24\\n      Username: CBCIndigenous\\n      Company: cbc\\n      like:87 id:818\\n      Tweet: New Speaker says he\\'ll evict Wilson-Raybould if she doesn\\'t leave willingly <hyperlink> #hw #cdnpoli <hyperlink>\\n      Date: 2019-12-13 22:11:25\\n      Username: CBCPolitics\\n      Company: cbc\\n      like:44 id:321\\n      Tweet: \\'I saw the light\\': How a group of Bathurst, N.B. students brought sunlight into seniors\\' lives: <hyperlink> <hyperlink>\\n      Date: 2019-03-02 01:42:41\\n      Username: CBCNB\\n      Company: cbc\\n      like:44 id:999\\n      Tweet: U.S. citizens living in Canada wish election was over by now <hyperlink> <hyperlink>\\n      Date: 2020-11-05 04:02:15\\n      Username: CBCToronto\\n      Company: cbc\\n      like:46 id:910\\n      Tweet: 12-year-old B.C. boy rescues starving, orphaned bear cub  <hyperlink> <hyperlink>\\n      Date: 2019-12-13 08:21:47\\n      Username: cbcnewsbc\\n      Company: cbc\\n      like:113 id:395\\n      Tweet: After Anne-Marie D’Amico died in last year’s deadly van attack, her family started a foundation in her name to help abuse victims start a new life. Now, they’re using donated money to build a women’s shelter in North York. Read more: <hyperlink> <hyperlink>\\n      Date: 2019-11-29 17:00:36\\n      Username: CBCToronto\\n      Company: cbc\\n      like:335 id:498\\n      Tweet: Starting this weekend, you can skate under the Gardiner <hyperlink> <hyperlink>\\n      Date: 2018-01-05 15:49:51\\n      Username: CBCToronto\\n      Company: cbc\\n      like:175\\nQuestion:  id:904\\n      Tweet: A school near Dufferin and Dundas that\\'s been empty for 15 years has been offered to the city to use as a shelter for refugees: <hyperlink> <hyperlink>\\n      Date: 2018-09-29 00:00:08\\n      Username: CBCToronto\\n      Company: cbc\\nHelpful Answer: ```\\n\\nFollow Up Input: huu\\n\\nHelpful Answer: ```\\n\\nFollow Up Input: id:1033\\n      Tweet: Even the cutest of emojis have no problem ghosting you. #WorldEmojiDay <hyperlink>\\n      Date: 2019-07-17 19:50:08\\n      Username: SpiderManMovie\\n      Company: no\\n'\n",
            "[\"id:528\\n      Tweet: Teepees outside Calgary courthouse are more than a protest — they're a healing space <hyperlink> <hyperlink>\\n      Date: 2018-04-30 14:25:24\\n      Username: CBCIndigenous\\n      Company: cbc\\n      like:87\", \"id:563\\n      Tweet: Toronto's Fort York has fallen to an adorable group of invaders <hyperlink> <hyperlink>\\n      Date: 2018-05-10 22:30:05\\n      Username: CBCToronto\\n      Company: cbc\\n      like:58\", \"id:700\\n      Tweet: Trudeau's got a NAFTA 2.0. Now he has to sell it to Canadians <hyperlink> #hw #cdnpoli <hyperlink>\\n      Date: 2018-10-01 20:05:20\\n      Username: CBCPolitics\\n      Company: cbc\\n      like:48\", \"id:904\\n      Tweet: A school near Dufferin and Dundas that's been empty for 15 years has been offered to the city to use as a shelter for refugees: <hyperlink> <hyperlink>\\n      Date: 2018-09-29 00:00:08\\n      Username: CBCToronto\\n      Company: cbc\\n      like:79\", \"id:818\\n      Tweet: New Speaker says he'll evict Wilson-Raybould if she doesn't leave willingly <hyperlink> #hw #cdnpoli <hyperlink>\\n      Date: 2019-12-13 22:11:25\\n      Username: CBCPolitics\\n      Company: cbc\\n      like:44\", 'id:250\\n      Tweet: Here’s a recap that characters won’t allow: #NVPrepsFB <hyperlink>\\n      Date: 2018-09-01 03:14:43\\n      Username: J15Emerson\\n      Company: emerson\\n      like:0', 'id:999\\n      Tweet: U.S. citizens living in Canada wish election was over by now <hyperlink> <hyperlink>\\n      Date: 2020-11-05 04:02:15\\n      Username: CBCToronto\\n      Company: cbc\\n      like:46', 'id:800\\n      Tweet: Emergency Student Benefit gets a failing grade - just make the CERB universal <hyperlink> <hyperlink>\\n      Date: 2020-04-23 08:27:08\\n      Username: CBCCanada\\n      Company: cbc\\n      like:266', 'id:498\\n      Tweet: Starting this weekend, you can skate under the Gardiner <hyperlink> <hyperlink>\\n      Date: 2018-01-05 15:49:51\\n      Username: CBCToronto\\n      Company: cbc\\n      like:175', 'id:297\\n      Tweet: The classics. #TBT <hyperlink>\\n      Date: 2019-05-09 20:43:27\\n      Username: CBC\\n      Company: cbc\\n      like:293']\n",
            "qa_prompt='Use the following pieces of context given in to answer the question at the end. If you don\\'t know the answer, just say that you don\\'t know, don\\'t try to make up an answer. Keep the answer short and succinct.\\n        \\nContext: id:528\\n      Tweet: Teepees outside Calgary courthouse are more than a protest — they\\'re a healing space <hyperlink> <hyperlink>\\n      Date: 2018-04-30 14:25:24\\n      Username: CBCIndigenous\\n      Company: cbc\\n      like:87 id:563\\n      Tweet: Toronto\\'s Fort York has fallen to an adorable group of invaders <hyperlink> <hyperlink>\\n      Date: 2018-05-10 22:30:05\\n      Username: CBCToronto\\n      Company: cbc\\n      like:58 id:700\\n      Tweet: Trudeau\\'s got a NAFTA 2.0. Now he has to sell it to Canadians <hyperlink> #hw #cdnpoli <hyperlink>\\n      Date: 2018-10-01 20:05:20\\n      Username: CBCPolitics\\n      Company: cbc\\n      like:48 id:904\\n      Tweet: A school near Dufferin and Dundas that\\'s been empty for 15 years has been offered to the city to use as a shelter for refugees: <hyperlink> <hyperlink>\\n      Date: 2018-09-29 00:00:08\\n      Username: CBCToronto\\n      Company: cbc\\n      like:79 id:818\\n      Tweet: New Speaker says he\\'ll evict Wilson-Raybould if she doesn\\'t leave willingly <hyperlink> #hw #cdnpoli <hyperlink>\\n      Date: 2019-12-13 22:11:25\\n      Username: CBCPolitics\\n      Company: cbc\\n      like:44 id:250\\n      Tweet: Here’s a recap that characters won’t allow: #NVPrepsFB <hyperlink>\\n      Date: 2018-09-01 03:14:43\\n      Username: J15Emerson\\n      Company: emerson\\n      like:0 id:999\\n      Tweet: U.S. citizens living in Canada wish election was over by now <hyperlink> <hyperlink>\\n      Date: 2020-11-05 04:02:15\\n      Username: CBCToronto\\n      Company: cbc\\n      like:46 id:800\\n      Tweet: Emergency Student Benefit gets a failing grade - just make the CERB universal <hyperlink> <hyperlink>\\n      Date: 2020-04-23 08:27:08\\n      Username: CBCCanada\\n      Company: cbc\\n      like:266 id:498\\n      Tweet: Starting this weekend, you can skate under the Gardiner <hyperlink> <hyperlink>\\n      Date: 2018-01-05 15:49:51\\n      Username: CBCToronto\\n      Company: cbc\\n      like:175 id:297\\n      Tweet: The classics. #TBT <hyperlink>\\n      Date: 2019-05-09 20:43:27\\n      Username: CBC\\n      Company: cbc\\n      like:293\\nQuestion: Given the following conversation and a follow up question, rephrase the follow up question to be a standalone question in its original language. Output the json object with single field `question` and value being the rephrased standalone question. \\nOnly output json object and nothing else.\\nChat History:\\nHuman: `````` id:904\\nTweet: A school near Dufferin and Dundas that\\'s been empty for 15 years has been offered to the city to use as a shelter for refugees: <hyperlink> <hyperlink>\\nDate: 2018-09-29 00:00:08\\nUsername: CBCToronto\\nCompany: cbc``````\\nAssistant: ``````Use the following pieces of context given in to answer the question at the end. If you don\\'t know the answer, just say that you don\\'t know, don\\'t try to make up an answer. Keep the answer short and succinct.\\n        \\nContext: id:904\\n      Tweet: A school near Dufferin and Dundas that\\'s been empty for 15 years has been offered to the city to use as a shelter for refugees: <hyperlink> <hyperlink>\\n      Date: 2018-09-29 00:00:08\\n      Username: CBCToronto\\n      Company: cbc\\n      like:79 id:800\\n      Tweet: Emergency Student Benefit gets a failing grade - just make the CERB universal <hyperlink> <hyperlink>\\n      Date: 2020-04-23 08:27:08\\n      Username: CBCCanada\\n      Company: cbc\\n      like:266 id:563\\n      Tweet: Toronto\\'s Fort York has fallen to an adorable group of invaders <hyperlink> <hyperlink>\\n      Date: 2018-05-10 22:30:05\\n      Username: CBCToronto\\n      Company: cbc\\n      like:58 id:528\\n      Tweet: Teepees outside Calgary courthouse are more than a protest — they\\'re a healing space <hyperlink> <hyperlink>\\n      Date: 2018-04-30 14:25:24\\n      Username: CBCIndigenous\\n      Company: cbc\\n      like:87 id:818\\n      Tweet: New Speaker says he\\'ll evict Wilson-Raybould if she doesn\\'t leave willingly <hyperlink> #hw #cdnpoli <hyperlink>\\n      Date: 2019-12-13 22:11:25\\n      Username: CBCPolitics\\n      Company: cbc\\n      like:44 id:321\\n      Tweet: \\'I saw the light\\': How a group of Bathurst, N.B. students brought sunlight into seniors\\' lives: <hyperlink> <hyperlink>\\n      Date: 2019-03-02 01:42:41\\n      Username: CBCNB\\n      Company: cbc\\n      like:44 id:999\\n      Tweet: U.S. citizens living in Canada wish election was over by now <hyperlink> <hyperlink>\\n      Date: 2020-11-05 04:02:15\\n      Username: CBCToronto\\n      Company: cbc\\n      like:46 id:910\\n      Tweet: 12-year-old B.C. boy rescues starving, orphaned bear cub  <hyperlink> <hyperlink>\\n      Date: 2019-12-13 08:21:47\\n      Username: cbcnewsbc\\n      Company: cbc\\n      like:113 id:395\\n      Tweet: After Anne-Marie D’Amico died in last year’s deadly van attack, her family started a foundation in her name to help abuse victims start a new life. Now, they’re using donated money to build a women’s shelter in North York. Read more: <hyperlink> <hyperlink>\\n      Date: 2019-11-29 17:00:36\\n      Username: CBCToronto\\n      Company: cbc\\n      like:335 id:498\\n      Tweet: Starting this weekend, you can skate under the Gardiner <hyperlink> <hyperlink>\\n      Date: 2018-01-05 15:49:51\\n      Username: CBCToronto\\n      Company: cbc\\n      like:175\\nQuestion:  id:904\\n      Tweet: A school near Dufferin and Dundas that\\'s been empty for 15 years has been offered to the city to use as a shelter for refugees: <hyperlink> <hyperlink>\\n      Date: 2018-09-29 00:00:08\\n      Username: CBCToronto\\n      Company: cbc\\nHelpful Answer: ``````\\nHuman: huu\\nAssistant: ```Use the following pieces of context given in to answer the question at the end. If you don\\'t know the answer, just say that you don\\'t know, don\\'t try to make up an answer. Keep the answer short and succinct.\\n        \\nContext: id:904\\n      Tweet: A school near Dufferin and Dundas that\\'s been empty for 15 years has been offered to the city to use as a shelter for refugees: <hyperlink> <hyperlink>\\n      Date: 2018-09-29 00:00:08\\n      Username: CBCToronto\\n      Company: cbc\\n      like:79 id:528\\n      Tweet: Teepees outside Calgary courthouse are more than a protest — they\\'re a healing space <hyperlink> <hyperlink>\\n      Date: 2018-04-30 14:25:24\\n      Username: CBCIndigenous\\n      Company: cbc\\n      like:87 id:563\\n      Tweet: Toronto\\'s Fort York has fallen to an adorable group of invaders <hyperlink> <hyperlink>\\n      Date: 2018-05-10 22:30:05\\n      Username: CBCToronto\\n      Company: cbc\\n      like:58 id:818\\n      Tweet: New Speaker says he\\'ll evict Wilson-Raybould if she doesn\\'t leave willingly <hyperlink> #hw #cdnpoli <hyperlink>\\n      Date: 2019-12-13 22:11:25\\n      Username: CBCPolitics\\n      Company: cbc\\n      like:44 id:999\\n      Tweet: U.S. citizens living in Canada wish election was over by now <hyperlink> <hyperlink>\\n      Date: 2020-11-05 04:02:15\\n      Username: CBCToronto\\n      Company: cbc\\n      like:46 id:796\\n      Tweet: Trudeau fires John McCallum as ambassador to China <hyperlink> #hw #cdnpoli <hyperlink>\\n      Date: 2019-01-26 19:55:39\\n      Username: CBCPolitics\\n      Company: cbc\\n      like:63 id:480\\n      Tweet: Join me, #BlackLivesMatter co-founder <mention>, UC Berkeley\\'s <mention>, &amp; <mention>\\'s <mention> for a night of \"How did we get here?\" &amp; \"How do we get out of here?\" We promise to make more sense than the #IowaCaucas. \\n\\nFeb 26, 730p, <mention>\\n\\n<hyperlink> <hyperlink>\\n      Date: 2020-02-07 00:39:16\\n      Username: wkamaubell\\n      Company: bell\\n      like:221 id:800\\n      Tweet: Emergency Student Benefit gets a failing grade - just make the CERB universal <hyperlink> <hyperlink>\\n      Date: 2020-04-23 08:27:08\\n      Username: CBCCanada\\n      Company: cbc\\n      like:266 id:297\\n      Tweet: The classics. #TBT <hyperlink>\\n      Date: 2019-05-09 20:43:27\\n      Username: CBC\\n      Company: cbc\\n      like:293 id:498\\n      Tweet: Starting this weekend, you can skate under the Gardiner <hyperlink> <hyperlink>\\n      Date: 2018-01-05 15:49:51\\n      Username: CBCToronto\\n      Company: cbc\\n      like:175\\nQuestion: Given the following conversation and a follow up question, rephrase the follow up question to be a standalone question in its original language. Output the json object with single field `question` and value being the rephrased standalone question. \\nOnly output json object and nothing else.\\nChat History:\\nHuman: ``` id:904\\nTweet: A school near Dufferin and Dundas that\\'s been empty for 15 years has been offered to the city to use as a shelter for refugees: <hyperlink> <hyperlink>\\nDate: 2018-09-29 00:00:08\\nUsername: CBCToronto\\nCompany: cbc```\\nAssistant: ```Use the following pieces of context given in to answer the question at the end. If you don\\'t know the answer, just say that you don\\'t know, don\\'t try to make up an answer. Keep the answer short and succinct.\\n        \\nContext: id:904\\n      Tweet: A school near Dufferin and Dundas that\\'s been empty for 15 years has been offered to the city to use as a shelter for refugees: <hyperlink> <hyperlink>\\n      Date: 2018-09-29 00:00:08\\n      Username: CBCToronto\\n      Company: cbc\\n      like:79 id:800\\n      Tweet: Emergency Student Benefit gets a failing grade - just make the CERB universal <hyperlink> <hyperlink>\\n      Date: 2020-04-23 08:27:08\\n      Username: CBCCanada\\n      Company: cbc\\n      like:266 id:563\\n      Tweet: Toronto\\'s Fort York has fallen to an adorable group of invaders <hyperlink> <hyperlink>\\n      Date: 2018-05-10 22:30:05\\n      Username: CBCToronto\\n      Company: cbc\\n      like:58 id:528\\n      Tweet: Teepees outside Calgary courthouse are more than a protest — they\\'re a healing space <hyperlink> <hyperlink>\\n      Date: 2018-04-30 14:25:24\\n      Username: CBCIndigenous\\n      Company: cbc\\n      like:87 id:818\\n      Tweet: New Speaker says he\\'ll evict Wilson-Raybould if she doesn\\'t leave willingly <hyperlink> #hw #cdnpoli <hyperlink>\\n      Date: 2019-12-13 22:11:25\\n      Username: CBCPolitics\\n      Company: cbc\\n      like:44 id:321\\n      Tweet: \\'I saw the light\\': How a group of Bathurst, N.B. students brought sunlight into seniors\\' lives: <hyperlink> <hyperlink>\\n      Date: 2019-03-02 01:42:41\\n      Username: CBCNB\\n      Company: cbc\\n      like:44 id:999\\n      Tweet: U.S. citizens living in Canada wish election was over by now <hyperlink> <hyperlink>\\n      Date: 2020-11-05 04:02:15\\n      Username: CBCToronto\\n      Company: cbc\\n      like:46 id:910\\n      Tweet: 12-year-old B.C. boy rescues starving, orphaned bear cub  <hyperlink> <hyperlink>\\n      Date: 2019-12-13 08:21:47\\n      Username: cbcnewsbc\\n      Company: cbc\\n      like:113 id:395\\n      Tweet: After Anne-Marie D’Amico died in last year’s deadly van attack, her family started a foundation in her name to help abuse victims start a new life. Now, they’re using donated money to build a women’s shelter in North York. Read more: <hyperlink> <hyperlink>\\n      Date: 2019-11-29 17:00:36\\n      Username: CBCToronto\\n      Company: cbc\\n      like:335 id:498\\n      Tweet: Starting this weekend, you can skate under the Gardiner <hyperlink> <hyperlink>\\n      Date: 2018-01-05 15:49:51\\n      Username: CBCToronto\\n      Company: cbc\\n      like:175\\nQuestion:  id:904\\n      Tweet: A school near Dufferin and Dundas that\\'s been empty for 15 years has been offered to the city to use as a shelter for refugees: <hyperlink> <hyperlink>\\n      Date: 2018-09-29 00:00:08\\n      Username: CBCToronto\\n      Company: cbc\\nHelpful Answer: ```\\n\\nFollow Up Input: huu\\n\\nHelpful Answer: ```\\n\\nFollow Up Input: id:1033\\n      Tweet: Even the cutest of emojis have no problem ghosting you. #WorldEmojiDay <hyperlink>\\n      Date: 2019-07-17 19:50:08\\n      Username: SpiderManMovie\\n      Company: no\\n\\nHelpful Answer: '\n",
            "['id:973\\n      Tweet: Fun. Furry. And fiercely adorable. Here’s to man’s best friend 🐶 as we celebrate the #LunarNewYear. <hyperlink>\\n      Date: 2018-02-16 15:10:11\\n      Username: FedEx\\n      Company: fedex\\n      like:833', 'id:684\\n      Tweet: This is what happens if you frighten an owl <hyperlink>\\n      Date: 2020-07-08 20:45:00\\n      Username: Independent\\n      Company: independent\\n      like:188', 'id:922\\n      Tweet: Damn <mention>  security does not play around 😂 <hyperlink>\\n      Date: 2019-06-12 18:05:44\\n      Username: nojumper\\n      Company: no\\n      like:5858', \"id:216\\n      Tweet: That itch you just can't scratch - we've all been there!   🎥: IG user <mention> <hyperlink>\\n      Date: 2020-10-28 08:01:17\\n      Username: PADI\\n      Company: padi\\n      like:1726\", 'id:826\\n      Tweet: And the verdict is... I’m keeping my iPhone SE <hyperlink>\\n      Date: 2018-09-13 11:56:35\\n      Username: nailogical\\n      Company: no\\n      like:4775', 'id:452\\n      Tweet: 🍾 never looked so good. #GalaxyS9 <hyperlink>\\n      Date: 2018-03-29 18:20:46\\n      Username: SamsungMobileUS\\n      Company: samsung\\n      like:205', 'id:106\\n      Tweet: <mention> <mention> So cool <hyperlink>\\n      Date: 2018-03-05 21:15:08\\n      Username: WalmartWorld\\n      Company: walmart\\n      like:0', 'id:477\\n      Tweet: Yessir... #SEE2019 <hyperlink>\\n      Date: 2019-11-08 14:57:40\\n      Username: jessedee\\n      Company: desjardins\\n      like:10', 'id:655\\n      Tweet: Front page worthy 😉 <hyperlink>\\n      Date: 2018-04-17 23:00:09\\n      Username: FreePeople\\n      Company: free\\n      like:292', 'id:396\\n      Tweet: Diversity ✅ Inclusion ✅ Collaboration ✅\\n\\nWe think all the best things come in 3⃣s 👉 <hyperlink> <hyperlink>\\n      Date: 2018-11-01 12:38:44\\n      Username: CiscoUKI\\n      Company: cisco\\n      like:0']\n",
            "qa_prompt=\"Use the following pieces of context given in to answer the question at the end. If you don't know the answer, just say that you don't know, don't try to make up an answer. Keep the answer short and succinct.\\n        \\nContext: id:973\\n      Tweet: Fun. Furry. And fiercely adorable. Here’s to man’s best friend 🐶 as we celebrate the #LunarNewYear. <hyperlink>\\n      Date: 2018-02-16 15:10:11\\n      Username: FedEx\\n      Company: fedex\\n      like:833 id:684\\n      Tweet: This is what happens if you frighten an owl <hyperlink>\\n      Date: 2020-07-08 20:45:00\\n      Username: Independent\\n      Company: independent\\n      like:188 id:922\\n      Tweet: Damn <mention>  security does not play around 😂 <hyperlink>\\n      Date: 2019-06-12 18:05:44\\n      Username: nojumper\\n      Company: no\\n      like:5858 id:216\\n      Tweet: That itch you just can't scratch - we've all been there!   🎥: IG user <mention> <hyperlink>\\n      Date: 2020-10-28 08:01:17\\n      Username: PADI\\n      Company: padi\\n      like:1726 id:826\\n      Tweet: And the verdict is... I’m keeping my iPhone SE <hyperlink>\\n      Date: 2018-09-13 11:56:35\\n      Username: nailogical\\n      Company: no\\n      like:4775 id:452\\n      Tweet: 🍾 never looked so good. #GalaxyS9 <hyperlink>\\n      Date: 2018-03-29 18:20:46\\n      Username: SamsungMobileUS\\n      Company: samsung\\n      like:205 id:106\\n      Tweet: <mention> <mention> So cool <hyperlink>\\n      Date: 2018-03-05 21:15:08\\n      Username: WalmartWorld\\n      Company: walmart\\n      like:0 id:477\\n      Tweet: Yessir... #SEE2019 <hyperlink>\\n      Date: 2019-11-08 14:57:40\\n      Username: jessedee\\n      Company: desjardins\\n      like:10 id:655\\n      Tweet: Front page worthy 😉 <hyperlink>\\n      Date: 2018-04-17 23:00:09\\n      Username: FreePeople\\n      Company: free\\n      like:292 id:396\\n      Tweet: Diversity ✅ Inclusion ✅ Collaboration ✅\\n\\nWe think all the best things come in 3⃣s 👉 <hyperlink> <hyperlink>\\n      Date: 2018-11-01 12:38:44\\n      Username: CiscoUKI\\n      Company: cisco\\n      like:0\\nQuestion: id:1033\\n      Tweet: Even the cutest of emojis have no problem ghosting you. #WorldEmojiDay <hyperlink>\\n      Date: 2019-07-17 19:50:08\\n      Username: SpiderManMovie\\n      Company: no\\nHelpful Answer: \"\n",
            "Traceback (most recent call last):\n",
            "  File \"/usr/local/lib/python3.10/dist-packages/gradio/queueing.py\", line 456, in call_prediction\n",
            "    output = await route_utils.call_process_api(\n",
            "  File \"/usr/local/lib/python3.10/dist-packages/gradio/route_utils.py\", line 232, in call_process_api\n",
            "    output = await app.get_blocks().process_api(\n",
            "  File \"/usr/local/lib/python3.10/dist-packages/gradio/blocks.py\", line 1522, in process_api\n",
            "    result = await self.call_function(\n",
            "  File \"/usr/local/lib/python3.10/dist-packages/gradio/blocks.py\", line 1142, in call_function\n",
            "    prediction = await fn(*processed_input)\n",
            "  File \"/usr/local/lib/python3.10/dist-packages/gradio/utils.py\", line 649, in async_wrapper\n",
            "    response = await f(*args, **kwargs)\n",
            "  File \"/usr/local/lib/python3.10/dist-packages/gradio/helpers.py\", line 261, in load_example\n",
            "    processed_example = self.non_none_processed_examples[example_id]\n",
            "TypeError: list indices must be integers or slices, not str\n",
            "Traceback (most recent call last):\n",
            "  File \"/usr/local/lib/python3.10/dist-packages/gradio/queueing.py\", line 456, in call_prediction\n",
            "    output = await route_utils.call_process_api(\n",
            "  File \"/usr/local/lib/python3.10/dist-packages/gradio/route_utils.py\", line 232, in call_process_api\n",
            "    output = await app.get_blocks().process_api(\n",
            "  File \"/usr/local/lib/python3.10/dist-packages/gradio/blocks.py\", line 1522, in process_api\n",
            "    result = await self.call_function(\n",
            "  File \"/usr/local/lib/python3.10/dist-packages/gradio/blocks.py\", line 1142, in call_function\n",
            "    prediction = await fn(*processed_input)\n",
            "  File \"/usr/local/lib/python3.10/dist-packages/gradio/utils.py\", line 649, in async_wrapper\n",
            "    response = await f(*args, **kwargs)\n",
            "  File \"/usr/local/lib/python3.10/dist-packages/gradio/helpers.py\", line 261, in load_example\n",
            "    processed_example = self.non_none_processed_examples[example_id]\n",
            "TypeError: list indices must be integers or slices, not str\n",
            "\n",
            "The above exception was the direct cause of the following exception:\n",
            "\n",
            "Traceback (most recent call last):\n",
            "  File \"/usr/local/lib/python3.10/dist-packages/gradio/queueing.py\", line 501, in process_events\n",
            "    response = await self.call_prediction(awake_events, batch)\n",
            "  File \"/usr/local/lib/python3.10/dist-packages/gradio/queueing.py\", line 465, in call_prediction\n",
            "    raise Exception(str(error) if show_error else None) from error\n",
            "Exception: None\n",
            "condensed_query=\"Given the following conversation and a follow up question, rephrase the follow up question to be a standalone question in its original language. Output the json object with single field `question` and value being the rephrased standalone question. \\nOnly output json object and nothing else.\\nChat History:\\nHuman: Hello\\nAssistant: ```Use the following pieces of context given in to answer the question at the end. If you don't know the answer, just say that you don't know, don't try to make up an answer. Keep the answer short and succinct.\\n        \\nContext:  id:153\\n      Tweet: The champ of to high school 😳 man where does time go! <mention> felt like yesterday I was taking you to nursery! <hyperlink>\\n      Date: 2019-08-14 07:08:37\\n      Username: AlexArthur1\\n      Company: aaa\\n      like:47 id:361\\n      Tweet: 📀 nice wee platinum plaque incoming 🙏🙏🙏👍 <hyperlink>\\n      Date: 2018-05-08 21:39:57\\n      Username: HudMo\\n      Company: hudson\\n      like:548 id:546\\n      Tweet: Thank you <mention>!!! 85,000 strong. <hyperlink>\\n      Date: 2019-04-29 15:26:41\\n      Username: OldDominion\\n      Company: dominion\\n      like:1554 id:614\\n      Tweet: Looks like Christmas came early. 😁 #DEWALTtough <hyperlink>\\n      Date: 2020-11-29 22:55:36\\n      Username: CBellRacing\\n      Company: bell\\n      like:513 id:345\\n      Tweet: Well <mention> and <mention> Y’all should be proud of me. <hyperlink>\\n      Date: 2020-12-05 23:02:48\\n      Username: LanceHoyt\\n      Company: monster\\n      like:1453 id:452\\n      Tweet: 🍾 never looked so good. #GalaxyS9 <hyperlink>\\n      Date: 2018-03-29 18:20:46\\n      Username: SamsungMobileUS\\n      Company: samsung\\n      like:205 id:533\\n      Tweet: Home just in time for a walk 😊 <hyperlink>\\n      Date: 2020-04-23 20:43:10\\n      Username: loreillysf\\n      Company: td\\n      like:87 id:564\\n      Tweet: How it started:           How it’s going: <hyperlink>\\n      Date: 2020-10-09 23:15:03\\n      Username: WalmartCAGaming\\n      Company: walmart\\n      like:429 id:283\\n      Tweet: Ready to hold all your essentials &gt;&gt;&gt; <hyperlink> <hyperlink>\\n      Date: 2019-06-28 22:30:06\\n      Username: FreePeople\\n      Company: free\\n      like:46\\nQuestion: Hello\\nHelpful Answer: ```\\n\\nFollow Up Input: What is University of Southampton?\\n\"\n",
            "['id:533\\n      Tweet: Home just in time for a walk 😊 <hyperlink>\\n      Date: 2020-04-23 20:43:10\\n      Username: loreillysf\\n      Company: td\\n      like:87', 'id:452\\n      Tweet: 🍾 never looked so good. #GalaxyS9 <hyperlink>\\n      Date: 2018-03-29 18:20:46\\n      Username: SamsungMobileUS\\n      Company: samsung\\n      like:205', 'id:361\\n      Tweet: 📀 nice wee platinum plaque incoming 🙏🙏🙏👍 <hyperlink>\\n      Date: 2018-05-08 21:39:57\\n      Username: HudMo\\n      Company: hudson\\n      like:548', 'id:981\\n      Tweet: Walking into the week like... <hyperlink>\\n      Date: 2019-10-01 08:12:26\\n      Username: ArlanWasHere\\n      Company: free\\n      like:53', 'id:345\\n      Tweet: Well <mention> and <mention> Y’all should be proud of me. <hyperlink>\\n      Date: 2020-12-05 23:02:48\\n      Username: LanceHoyt\\n      Company: monster\\n      like:1453', 'id:614\\n      Tweet: Looks like Christmas came early. 😁 #DEWALTtough <hyperlink>\\n      Date: 2020-11-29 22:55:36\\n      Username: CBellRacing\\n      Company: bell\\n      like:513', 'id:564\\n      Tweet: How it started:           How it’s going: <hyperlink>\\n      Date: 2020-10-09 23:15:03\\n      Username: WalmartCAGaming\\n      Company: walmart\\n      like:429', \"id:369\\n      Tweet: What's up, Liverpool? <hyperlink>\\n      Date: 2019-11-11 00:31:41\\n      Username: stadiumastro\\n      Company: astro\\n      like:262\", 'id:153\\n      Tweet: The champ of to high school 😳 man where does time go! <mention> felt like yesterday I was taking you to nursery! <hyperlink>\\n      Date: 2019-08-14 07:08:37\\n      Username: AlexArthur1\\n      Company: aaa\\n      like:47', 'id:260\\n      Tweet: OK, Cake Twitter, how did I do here\\n\\ncc: <mention> <mention> <mention> <mention> <hyperlink> <hyperlink>\\n      Date: 2020-09-28 20:07:33\\n      Username: elliotcwilliams\\n      Company: williams\\n      like:514']\n",
            "qa_prompt=\"Use the following pieces of context given in to answer the question at the end. If you don't know the answer, just say that you don't know, don't try to make up an answer. Keep the answer short and succinct.\\n        \\nContext: id:533\\n      Tweet: Home just in time for a walk 😊 <hyperlink>\\n      Date: 2020-04-23 20:43:10\\n      Username: loreillysf\\n      Company: td\\n      like:87 id:452\\n      Tweet: 🍾 never looked so good. #GalaxyS9 <hyperlink>\\n      Date: 2018-03-29 18:20:46\\n      Username: SamsungMobileUS\\n      Company: samsung\\n      like:205 id:361\\n      Tweet: 📀 nice wee platinum plaque incoming 🙏🙏🙏👍 <hyperlink>\\n      Date: 2018-05-08 21:39:57\\n      Username: HudMo\\n      Company: hudson\\n      like:548 id:981\\n      Tweet: Walking into the week like... <hyperlink>\\n      Date: 2019-10-01 08:12:26\\n      Username: ArlanWasHere\\n      Company: free\\n      like:53 id:345\\n      Tweet: Well <mention> and <mention> Y’all should be proud of me. <hyperlink>\\n      Date: 2020-12-05 23:02:48\\n      Username: LanceHoyt\\n      Company: monster\\n      like:1453 id:614\\n      Tweet: Looks like Christmas came early. 😁 #DEWALTtough <hyperlink>\\n      Date: 2020-11-29 22:55:36\\n      Username: CBellRacing\\n      Company: bell\\n      like:513 id:564\\n      Tweet: How it started:           How it’s going: <hyperlink>\\n      Date: 2020-10-09 23:15:03\\n      Username: WalmartCAGaming\\n      Company: walmart\\n      like:429 id:369\\n      Tweet: What's up, Liverpool? <hyperlink>\\n      Date: 2019-11-11 00:31:41\\n      Username: stadiumastro\\n      Company: astro\\n      like:262 id:153\\n      Tweet: The champ of to high school 😳 man where does time go! <mention> felt like yesterday I was taking you to nursery! <hyperlink>\\n      Date: 2019-08-14 07:08:37\\n      Username: AlexArthur1\\n      Company: aaa\\n      like:47 id:260\\n      Tweet: OK, Cake Twitter, how did I do here\\n\\ncc: <mention> <mention> <mention> <mention> <hyperlink> <hyperlink>\\n      Date: 2020-09-28 20:07:33\\n      Username: elliotcwilliams\\n      Company: williams\\n      like:514\\nQuestion: Given the following conversation and a follow up question, rephrase the follow up question to be a standalone question in its original language. Output the json object with single field `question` and value being the rephrased standalone question. \\nOnly output json object and nothing else.\\nChat History:\\nHuman: Hello\\nAssistant: ```Use the following pieces of context given in to answer the question at the end. If you don't know the answer, just say that you don't know, don't try to make up an answer. Keep the answer short and succinct.\\n        \\nContext:  id:153\\n      Tweet: The champ of to high school 😳 man where does time go! <mention> felt like yesterday I was taking you to nursery! <hyperlink>\\n      Date: 2019-08-14 07:08:37\\n      Username: AlexArthur1\\n      Company: aaa\\n      like:47 id:361\\n      Tweet: 📀 nice wee platinum plaque incoming 🙏🙏🙏👍 <hyperlink>\\n      Date: 2018-05-08 21:39:57\\n      Username: HudMo\\n      Company: hudson\\n      like:548 id:546\\n      Tweet: Thank you <mention>!!! 85,000 strong. <hyperlink>\\n      Date: 2019-04-29 15:26:41\\n      Username: OldDominion\\n      Company: dominion\\n      like:1554 id:614\\n      Tweet: Looks like Christmas came early. 😁 #DEWALTtough <hyperlink>\\n      Date: 2020-11-29 22:55:36\\n      Username: CBellRacing\\n      Company: bell\\n      like:513 id:345\\n      Tweet: Well <mention> and <mention> Y’all should be proud of me. <hyperlink>\\n      Date: 2020-12-05 23:02:48\\n      Username: LanceHoyt\\n      Company: monster\\n      like:1453 id:452\\n      Tweet: 🍾 never looked so good. #GalaxyS9 <hyperlink>\\n      Date: 2018-03-29 18:20:46\\n      Username: SamsungMobileUS\\n      Company: samsung\\n      like:205 id:533\\n      Tweet: Home just in time for a walk 😊 <hyperlink>\\n      Date: 2020-04-23 20:43:10\\n      Username: loreillysf\\n      Company: td\\n      like:87 id:564\\n      Tweet: How it started:           How it’s going: <hyperlink>\\n      Date: 2020-10-09 23:15:03\\n      Username: WalmartCAGaming\\n      Company: walmart\\n      like:429 id:283\\n      Tweet: Ready to hold all your essentials &gt;&gt;&gt; <hyperlink> <hyperlink>\\n      Date: 2019-06-28 22:30:06\\n      Username: FreePeople\\n      Company: free\\n      like:46\\nQuestion: Hello\\nHelpful Answer: ```\\n\\nFollow Up Input: What is University of Southampton?\\n\\nHelpful Answer: \"\n",
            "['id:601\\n      Tweet: “My core values are to be connected with the wild outdoors and to always examine my choices that affect the health of them.\" -<mention> shares some of her advice for aspiring freedivers and passionate conservationists on <hyperlink> 📷: <mention> <hyperlink>\\n      Date: 2018-05-16 20:00:33\\n      Username: PADI\\n      Company: padi\\n      like:37', 'id:101\\n      Tweet: An amazing night with the incredible <mention> . 💜 #CryPrettyTour360 \\n\\n📸: <mention> <hyperlink>\\n      Date: 2019-06-22 02:42:09\\n      Username: TargetCenterMN\\n      Company: target\\n      like:72', 'id:922\\n      Tweet: Damn <mention>  security does not play around 😂 <hyperlink>\\n      Date: 2019-06-12 18:05:44\\n      Username: nojumper\\n      Company: no\\n      like:5858', 'id:938\\n      Tweet: The Ultimate Scuba Packing List: <hyperlink> <hyperlink>\\n      Date: 2019-02-10 21:00:10\\n      Username: PADI\\n      Company: padi\\n      like:36', 'id:758\\n      Tweet: Today we celebrate the special gifts in our lives that make every day a good day. How are you celebrating your rescue pet today? #NationalPetDay #iadopted <hyperlink>\\n      Date: 2019-04-11 12:41:40\\n      Username: PetSmartChariTs\\n      Company: petsmart\\n      like:16', 'id:210\\n      Tweet: <mention> Jake.. please read the entire blog. <hyperlink>\\n      Date: 2018-11-11 19:11:50\\n      Username: PatMcAfeeShow\\n      Company: mcafee\\n      like:0', 'id:613\\n      Tweet: <mention> Pretty please? <hyperlink>\\n      Date: 2019-07-30 16:38:25\\n      Username: ShopRiteStores\\n      Company: shoprite\\n      like:0', \"id:476\\n      Tweet: Who's getting ready to go diving this weekend? 🙋\\u200d♀️ 📷 IG user nik.rana_ in Belize <hyperlink>\\n      Date: 2019-01-18 03:00:06\\n      Username: PADI\\n      Company: padi\\n      like:80\", \"id:216\\n      Tweet: That itch you just can't scratch - we've all been there!   🎥: IG user <mention> <hyperlink>\\n      Date: 2020-10-28 08:01:17\\n      Username: PADI\\n      Company: padi\\n      like:1726\", \"id:205\\n      Tweet: Yawns are contagious 😴. Good thing it's almost Friday! 📷 : colbykammererphotography <hyperlink>\\n      Date: 2020-07-03 20:00:05\\n      Username: PADI\\n      Company: padi\\n      like:64\"]\n",
            "qa_prompt='Use the following pieces of context given in to answer the question at the end. If you don\\'t know the answer, just say that you don\\'t know, don\\'t try to make up an answer. Keep the answer short and succinct.\\n        \\nContext: id:601\\n      Tweet: “My core values are to be connected with the wild outdoors and to always examine my choices that affect the health of them.\" -<mention> shares some of her advice for aspiring freedivers and passionate conservationists on <hyperlink> 📷: <mention> <hyperlink>\\n      Date: 2018-05-16 20:00:33\\n      Username: PADI\\n      Company: padi\\n      like:37 id:101\\n      Tweet: An amazing night with the incredible <mention> . 💜 #CryPrettyTour360 \\n\\n📸: <mention> <hyperlink>\\n      Date: 2019-06-22 02:42:09\\n      Username: TargetCenterMN\\n      Company: target\\n      like:72 id:922\\n      Tweet: Damn <mention>  security does not play around 😂 <hyperlink>\\n      Date: 2019-06-12 18:05:44\\n      Username: nojumper\\n      Company: no\\n      like:5858 id:938\\n      Tweet: The Ultimate Scuba Packing List: <hyperlink> <hyperlink>\\n      Date: 2019-02-10 21:00:10\\n      Username: PADI\\n      Company: padi\\n      like:36 id:758\\n      Tweet: Today we celebrate the special gifts in our lives that make every day a good day. How are you celebrating your rescue pet today? #NationalPetDay #iadopted <hyperlink>\\n      Date: 2019-04-11 12:41:40\\n      Username: PetSmartChariTs\\n      Company: petsmart\\n      like:16 id:210\\n      Tweet: <mention> Jake.. please read the entire blog. <hyperlink>\\n      Date: 2018-11-11 19:11:50\\n      Username: PatMcAfeeShow\\n      Company: mcafee\\n      like:0 id:613\\n      Tweet: <mention> Pretty please? <hyperlink>\\n      Date: 2019-07-30 16:38:25\\n      Username: ShopRiteStores\\n      Company: shoprite\\n      like:0 id:476\\n      Tweet: Who\\'s getting ready to go diving this weekend? 🙋\\u200d♀️ 📷 IG user nik.rana_ in Belize <hyperlink>\\n      Date: 2019-01-18 03:00:06\\n      Username: PADI\\n      Company: padi\\n      like:80 id:216\\n      Tweet: That itch you just can\\'t scratch - we\\'ve all been there!   🎥: IG user <mention> <hyperlink>\\n      Date: 2020-10-28 08:01:17\\n      Username: PADI\\n      Company: padi\\n      like:1726 id:205\\n      Tweet: Yawns are contagious 😴. Good thing it\\'s almost Friday! 📷 : colbykammererphotography <hyperlink>\\n      Date: 2020-07-03 20:00:05\\n      Username: PADI\\n      Company: padi\\n      like:64\\nQuestion: id:1038\\n      Tweet: Edriel takes her job protecting the divers of <mention> very seriously! 😍 We love seeing shots of your dive center dogs, feel free to share them with us! 📷 PADI AmbassaDiver <mention> <hyperlink>\\n      Date: 2019-06-21 08:00:18\\n      Username: PADI\\n      Company: padi\\nHelpful Answer: '\n"
          ]
        }
      ],
      "source": [
        "!python /content/AVA/app.py"
      ]
    },
    {
      "cell_type": "code",
      "execution_count": null,
      "metadata": {
        "id": "6TTsORM7Lefk"
      },
      "outputs": [],
      "source": []
    }
  ],
  "metadata": {
    "colab": {
      "provenance": []
    },
    "kernelspec": {
      "display_name": "Python 3",
      "name": "python3"
    },
    "language_info": {
      "name": "python"
    }
  },
  "nbformat": 4,
  "nbformat_minor": 0
}