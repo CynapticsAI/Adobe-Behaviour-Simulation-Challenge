{
 "cells": [
  {
   "cell_type": "markdown",
   "id": "e00b79f0",
   "metadata": {},
   "source": [
    "Importing Libraries"
   ]
  },
  {
   "cell_type": "code",
   "execution_count": null,
   "id": "ea643be7",
   "metadata": {
    "_cell_guid": "b1076dfc-b9ad-4769-8c92-a6c4dae69d19",
    "_uuid": "8f2839f25d086af736a60e9eeb907d3b93b6e0e5",
    "execution": {
     "iopub.execute_input": "2023-12-14T14:03:08.965714Z",
     "iopub.status.busy": "2023-12-14T14:03:08.965301Z",
     "iopub.status.idle": "2023-12-14T14:03:09.376990Z",
     "shell.execute_reply": "2023-12-14T14:03:09.376102Z"
    },
    "papermill": {
     "duration": 0.423515,
     "end_time": "2023-12-14T14:03:09.380000",
     "exception": false,
     "start_time": "2023-12-14T14:03:08.956485",
     "status": "completed"
    },
    "tags": []
   },
   "outputs": [],
   "source": [
    "import numpy as np # linear algebra\n",
    "import pandas as pd # data processing, CSV file I/O (e.g. pd.read_csv)\n",
    "import os\n",
    "from tensorflow.keras.models import load_model"
   ]
  },
  {
   "cell_type": "markdown",
   "id": "f0e1c4ae",
   "metadata": {},
   "source": [
    "Loading Class Predictions\n"
   ]
  },
  {
   "cell_type": "code",
   "execution_count": 3,
   "id": "9a96ca04",
   "metadata": {
    "execution": {
     "iopub.execute_input": "2023-12-14T14:03:24.736796Z",
     "iopub.status.busy": "2023-12-14T14:03:24.734642Z",
     "iopub.status.idle": "2023-12-14T14:03:24.760839Z",
     "shell.execute_reply": "2023-12-14T14:03:24.759601Z"
    },
    "papermill": {
     "duration": 0.039193,
     "end_time": "2023-12-14T14:03:24.763534",
     "exception": false,
     "start_time": "2023-12-14T14:03:24.724341",
     "status": "completed"
    },
    "tags": []
   },
   "outputs": [],
   "source": [
    "preds=pd.read_csv('/kaggle/input/final-classifiers/classifiedByNormalClassifier_time_testdata.csv')"
   ]
  },
  {
   "cell_type": "code",
   "execution_count": 4,
   "id": "6065ea9b",
   "metadata": {
    "execution": {
     "iopub.execute_input": "2023-12-14T14:03:24.779428Z",
     "iopub.status.busy": "2023-12-14T14:03:24.778324Z",
     "iopub.status.idle": "2023-12-14T14:03:24.795152Z",
     "shell.execute_reply": "2023-12-14T14:03:24.792908Z"
    },
    "papermill": {
     "duration": 0.02846,
     "end_time": "2023-12-14T14:03:24.798487",
     "exception": false,
     "start_time": "2023-12-14T14:03:24.770027",
     "status": "completed"
    },
    "tags": []
   },
   "outputs": [],
   "source": [
    "preds['predicted_likes'] = 0"
   ]
  },
  {
   "cell_type": "markdown",
   "id": "f5ab8b93",
   "metadata": {},
   "source": [
    "Loading Regressor Models"
   ]
  },
  {
   "cell_type": "code",
   "execution_count": 5,
   "id": "b7f4f718",
   "metadata": {
    "execution": {
     "iopub.execute_input": "2023-12-14T14:03:24.814133Z",
     "iopub.status.busy": "2023-12-14T14:03:24.813140Z",
     "iopub.status.idle": "2023-12-14T14:03:26.471648Z",
     "shell.execute_reply": "2023-12-14T14:03:26.469580Z"
    },
    "papermill": {
     "duration": 1.669512,
     "end_time": "2023-12-14T14:03:26.474509",
     "exception": false,
     "start_time": "2023-12-14T14:03:24.804997",
     "status": "completed"
    },
    "tags": []
   },
   "outputs": [],
   "source": [
    "reg_0_100 = load_model('/kaggle/input/final-weights-for-testing/0_100_reg (1).h5')\n",
    "reg_100_1000 = load_model('/kaggle/input/final-weights-for-testing/100_1000_reg (1).h5')\n",
    "reg_1000_5000 = load_model('/kaggle/input/final-weights-for-testing/1000_5000_reg (1).h5')\n",
    "reg_5000_10000 = load_model('/kaggle/input/final-weights-for-testing/5000_10000_reg (1).h5')\n",
    "reg_10000_100000 = load_model('/kaggle/input/final-weights-for-testing/10000_100000_reg (1).h5')\n",
    "reg_100000_1000000 = load_model('/kaggle/input/final-weights-for-testing/100000_1000000_reg (1).h5')"
   ]
  },
  {
   "cell_type": "markdown",
   "id": "96364bf5",
   "metadata": {},
   "source": [
    "Loading the Embeddings"
   ]
  },
  {
   "cell_type": "code",
   "execution_count": 6,
   "id": "4602090e",
   "metadata": {
    "execution": {
     "iopub.execute_input": "2023-12-14T14:03:26.489574Z",
     "iopub.status.busy": "2023-12-14T14:03:26.489108Z",
     "iopub.status.idle": "2023-12-14T14:03:26.496241Z",
     "shell.execute_reply": "2023-12-14T14:03:26.493807Z"
    },
    "papermill": {
     "duration": 0.018647,
     "end_time": "2023-12-14T14:03:26.500079",
     "exception": false,
     "start_time": "2023-12-14T14:03:26.481432",
     "status": "completed"
    },
    "tags": []
   },
   "outputs": [],
   "source": [
    "# embeddings=np.load(\"/kaggle/input/adobe-test-embeddings/content-test-company.npy\")"
   ]
  },
  {
   "cell_type": "code",
   "execution_count": 7,
   "id": "935c57f9",
   "metadata": {
    "execution": {
     "iopub.execute_input": "2023-12-14T14:03:26.516381Z",
     "iopub.status.busy": "2023-12-14T14:03:26.514643Z",
     "iopub.status.idle": "2023-12-14T14:03:26.521757Z",
     "shell.execute_reply": "2023-12-14T14:03:26.519971Z"
    },
    "papermill": {
     "duration": 0.017931,
     "end_time": "2023-12-14T14:03:26.524537",
     "exception": false,
     "start_time": "2023-12-14T14:03:26.506606",
     "status": "completed"
    },
    "tags": []
   },
   "outputs": [],
   "source": [
    "# embeddings=np.load(\"/kaggle/input/adobe-test-embeddings/content-test-time.npy\")"
   ]
  },
  {
   "cell_type": "code",
   "execution_count": 8,
   "id": "44cb0be0",
   "metadata": {
    "execution": {
     "iopub.execute_input": "2023-12-14T14:03:26.539590Z",
     "iopub.status.busy": "2023-12-14T14:03:26.539125Z",
     "iopub.status.idle": "2023-12-14T14:03:26.543185Z",
     "shell.execute_reply": "2023-12-14T14:03:26.542436Z"
    },
    "papermill": {
     "duration": 0.014008,
     "end_time": "2023-12-14T14:03:26.544962",
     "exception": false,
     "start_time": "2023-12-14T14:03:26.530954",
     "status": "completed"
    },
    "tags": []
   },
   "outputs": [],
   "source": [
    "# embeddings = np.load(\"/kaggle/input/adobe-test-embeddings/full-content-test-company.npy\")"
   ]
  },
  {
   "cell_type": "code",
   "execution_count": 9,
   "id": "30e1b39e",
   "metadata": {
    "execution": {
     "iopub.execute_input": "2023-12-14T14:03:26.560692Z",
     "iopub.status.busy": "2023-12-14T14:03:26.559940Z",
     "iopub.status.idle": "2023-12-14T14:03:26.935244Z",
     "shell.execute_reply": "2023-12-14T14:03:26.933450Z"
    },
    "papermill": {
     "duration": 0.386911,
     "end_time": "2023-12-14T14:03:26.938381",
     "exception": false,
     "start_time": "2023-12-14T14:03:26.551470",
     "status": "completed"
    },
    "tags": []
   },
   "outputs": [],
   "source": [
    "embeddings=np.load(\"/kaggle/input/adobe-test-embeddings/full-content-test-time.npy\")"
   ]
  },
  {
   "cell_type": "code",
   "execution_count": 10,
   "id": "bc4e2bc8",
   "metadata": {
    "execution": {
     "iopub.execute_input": "2023-12-14T14:03:26.954404Z",
     "iopub.status.busy": "2023-12-14T14:03:26.953921Z",
     "iopub.status.idle": "2023-12-14T14:03:26.961317Z",
     "shell.execute_reply": "2023-12-14T14:03:26.959400Z"
    },
    "papermill": {
     "duration": 0.019009,
     "end_time": "2023-12-14T14:03:26.964040",
     "exception": false,
     "start_time": "2023-12-14T14:03:26.945031",
     "status": "completed"
    },
    "tags": []
   },
   "outputs": [],
   "source": [
    "preds['class']=preds['classByNormalClassifier_time']"
   ]
  },
  {
   "cell_type": "markdown",
   "id": "1fa72418",
   "metadata": {},
   "source": [
    "Predicting the likes"
   ]
  },
  {
   "cell_type": "code",
   "execution_count": null,
   "id": "0ab4ba3a",
   "metadata": {
    "execution": {
     "iopub.execute_input": "2023-12-14T14:03:26.980022Z",
     "iopub.status.busy": "2023-12-14T14:03:26.979494Z",
     "iopub.status.idle": "2023-12-14T14:15:37.634429Z",
     "shell.execute_reply": "2023-12-14T14:15:37.633246Z"
    },
    "papermill": {
     "duration": 730.667727,
     "end_time": "2023-12-14T14:15:37.638649",
     "exception": false,
     "start_time": "2023-12-14T14:03:26.970922",
     "status": "completed"
    },
    "tags": []
   },
   "outputs": [],
   "source": [
    "for _, tweet in preds.iterrows():\n",
    "    if tweet['class'] == \"0-100\":\n",
    "        pred = reg_0_100.predict(embeddings[tweet['index']].reshape(1, -1))\n",
    "        preds.at[_, 'predicted_likes'] = pred[0]\n",
    "    elif tweet['class'] == \"100-1000\":\n",
    "        pred = reg_100_1000.predict(embeddings[tweet['index']].reshape(1, -1))\n",
    "        preds.at[_, 'predicted_likes'] = pred[0]\n",
    "    elif tweet['class'] == \"1000-5000\":\n",
    "        pred = reg_1000_5000.predict(embeddings[tweet['index']].reshape(1, -1))\n",
    "        preds.at[_, 'predicted_likes'] = pred[0]\n",
    "    elif tweet['class'] == \"5000-10000\":\n",
    "        pred = reg_5000_10000.predict(embeddings[tweet['index']].reshape(1, -1))\n",
    "        preds.at[_, 'predicted_likes'] = pred[0]\n",
    "    elif tweet['class'] == \"10000-100000\":\n",
    "        pred = reg_10000_100000.predict(embeddings[tweet['index']].reshape(1, -1))\n",
    "        preds.at[_, 'predicted_likes'] = pred[0]\n",
    "    elif tweet['class'] == \"100000-1000000\":\n",
    "        pred = reg_100000_1000000.predict(embeddings[tweet['index']].reshape(1, -1))\n",
    "        preds.at[_, 'predicted_likes'] = pred[0]\n"
   ]
  },
  {
   "cell_type": "code",
   "execution_count": 14,
   "id": "2128234b",
   "metadata": {
    "execution": {
     "iopub.execute_input": "2023-12-14T14:15:45.240222Z",
     "iopub.status.busy": "2023-12-14T14:15:45.239799Z",
     "iopub.status.idle": "2023-12-14T14:15:45.275232Z",
     "shell.execute_reply": "2023-12-14T14:15:45.273232Z"
    },
    "papermill": {
     "duration": 1.233045,
     "end_time": "2023-12-14T14:15:45.278161",
     "exception": false,
     "start_time": "2023-12-14T14:15:44.045116",
     "status": "completed"
    },
    "tags": []
   },
   "outputs": [],
   "source": [
    "# Save the modified DataFrame to a new CSV file\n",
    "preds.to_csv('time-normal-classifier.csv', index=False)\n"
   ]
  }
 ],
 "metadata": {
  "kaggle": {
   "accelerator": "none",
   "dataSources": [
    {
     "databundleVersionId": 7289610,
     "datasetId": 4164521,
     "sourceId": 7200238,
     "sourceType": "datasetVersion"
    },
    {
     "databundleVersionId": 7290201,
     "datasetId": 4164899,
     "sourceId": 7200818,
     "sourceType": "datasetVersion"
    },
    {
     "databundleVersionId": 7290638,
     "datasetId": 4164886,
     "sourceId": 7201252,
     "sourceType": "datasetVersion"
    }
   ],
   "dockerImageVersionId": 30626,
   "isGpuEnabled": false,
   "isInternetEnabled": true,
   "language": "python",
   "sourceType": "notebook"
  },
  "kernelspec": {
   "display_name": "Python 3",
   "language": "python",
   "name": "python3"
  },
  "language_info": {
   "codemirror_mode": {
    "name": "ipython",
    "version": 3
   },
   "file_extension": ".py",
   "mimetype": "text/x-python",
   "name": "python",
   "nbconvert_exporter": "python",
   "pygments_lexer": "ipython3",
   "version": "3.10.12"
  },
  "papermill": {
   "default_parameters": {},
   "duration": 796.792008,
   "end_time": "2023-12-14T14:16:22.665943",
   "environment_variables": {},
   "exception": null,
   "input_path": "__notebook__.ipynb",
   "output_path": "__notebook__.ipynb",
   "parameters": {},
   "start_time": "2023-12-14T14:03:05.873935",
   "version": "2.4.0"
  }
 },
 "nbformat": 4,
 "nbformat_minor": 5
}
