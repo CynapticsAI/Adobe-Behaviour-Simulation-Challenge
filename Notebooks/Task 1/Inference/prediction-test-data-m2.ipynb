{
 "cells": [
  {
   "cell_type": "markdown",
   "id": "454bb78e",
   "metadata": {},
   "source": [
    "Importing Libraries"
   ]
  },
  {
   "cell_type": "code",
   "execution_count": null,
   "id": "586979b5",
   "metadata": {
    "_cell_guid": "b1076dfc-b9ad-4769-8c92-a6c4dae69d19",
    "_uuid": "8f2839f25d086af736a60e9eeb907d3b93b6e0e5",
    "execution": {
     "iopub.execute_input": "2023-12-14T18:43:21.248267Z",
     "iopub.status.busy": "2023-12-14T18:43:21.247852Z",
     "iopub.status.idle": "2023-12-14T18:43:21.606439Z",
     "shell.execute_reply": "2023-12-14T18:43:21.605428Z"
    },
    "papermill": {
     "duration": 0.369231,
     "end_time": "2023-12-14T18:43:21.608870",
     "exception": false,
     "start_time": "2023-12-14T18:43:21.239639",
     "status": "completed"
    },
    "tags": []
   },
   "outputs": [],
   "source": [
    "import numpy as np # linear algebra\n",
    "import pandas as pd # data processing, CSV file I/O (e.g. pd.read_csv)\n",
    "import os\n",
    "from tensorflow.keras.models import load_model"
   ]
  },
  {
   "cell_type": "markdown",
   "id": "4cb27518",
   "metadata": {},
   "source": [
    "Loading the Classes\n"
   ]
  },
  {
   "cell_type": "code",
   "execution_count": 3,
   "id": "5ed080d2",
   "metadata": {
    "execution": {
     "iopub.execute_input": "2023-12-14T18:43:36.952635Z",
     "iopub.status.busy": "2023-12-14T18:43:36.951971Z",
     "iopub.status.idle": "2023-12-14T18:43:36.973432Z",
     "shell.execute_reply": "2023-12-14T18:43:36.972270Z"
    },
    "papermill": {
     "duration": 0.032444,
     "end_time": "2023-12-14T18:43:36.976074",
     "exception": false,
     "start_time": "2023-12-14T18:43:36.943630",
     "status": "completed"
    },
    "tags": []
   },
   "outputs": [],
   "source": [
    "# loading the classes predicted by the classifier\n",
    "preds=pd.read_csv('/kaggle/input/final-classifiers/classifiedByBerttweet_time')"
   ]
  },
  {
   "cell_type": "code",
   "execution_count": 5,
   "id": "a8c51509",
   "metadata": {
    "execution": {
     "iopub.execute_input": "2023-12-14T18:43:37.039845Z",
     "iopub.status.busy": "2023-12-14T18:43:37.039503Z",
     "iopub.status.idle": "2023-12-14T18:43:37.048075Z",
     "shell.execute_reply": "2023-12-14T18:43:37.046188Z"
    },
    "papermill": {
     "duration": 0.019042,
     "end_time": "2023-12-14T18:43:37.050898",
     "exception": false,
     "start_time": "2023-12-14T18:43:37.031856",
     "status": "completed"
    },
    "tags": []
   },
   "outputs": [],
   "source": [
    "# assigning a column for predicted likes\n",
    "preds['predicted_likes'] = 0"
   ]
  },
  {
   "cell_type": "markdown",
   "id": "21cd0619",
   "metadata": {},
   "source": [
    "Loading Regressor Models"
   ]
  },
  {
   "cell_type": "code",
   "execution_count": 6,
   "id": "14abd836",
   "metadata": {
    "execution": {
     "iopub.execute_input": "2023-12-14T18:43:37.067050Z",
     "iopub.status.busy": "2023-12-14T18:43:37.066229Z",
     "iopub.status.idle": "2023-12-14T18:43:38.857108Z",
     "shell.execute_reply": "2023-12-14T18:43:38.855161Z"
    },
    "papermill": {
     "duration": 1.80186,
     "end_time": "2023-12-14T18:43:38.859720",
     "exception": false,
     "start_time": "2023-12-14T18:43:37.057860",
     "status": "completed"
    },
    "tags": []
   },
   "outputs": [],
   "source": [
    "# these are specific regressor models forn each class\n",
    "reg_0_100 = load_model('/kaggle/input/final-weights-test-2/0_100_reg (1).h5')\n",
    "reg_100_1000 = load_model('/kaggle/input/final-weights-test-2/100_1000_reg (1).h5')\n",
    "reg_1000_5000 = load_model('/kaggle/input/final-weights-test-2/1000_5000_reg (1).h5')\n",
    "reg_5000_10000 = load_model('/kaggle/input/final-weights-test-2/5000_10000_reg (1).h5')\n",
    "reg_10000_100000 = load_model('/kaggle/input/final-weights-test-2/10000_100000_reg (1).h5')\n",
    "reg_100000_1000000 = load_model('/kaggle/input/final-weights-test-2/100000_1000000_reg (1).h5')"
   ]
  },
  {
   "cell_type": "markdown",
   "id": "97bcc002",
   "metadata": {},
   "source": [
    "Loading the BERTweet Embeddings "
   ]
  },
  {
   "cell_type": "code",
   "execution_count": 7,
   "id": "5a1762dc",
   "metadata": {
    "execution": {
     "iopub.execute_input": "2023-12-14T18:43:38.898223Z",
     "iopub.status.busy": "2023-12-14T18:43:38.897745Z",
     "iopub.status.idle": "2023-12-14T18:43:38.903336Z",
     "shell.execute_reply": "2023-12-14T18:43:38.901811Z"
    },
    "papermill": {
     "duration": 0.016269,
     "end_time": "2023-12-14T18:43:38.905241",
     "exception": false,
     "start_time": "2023-12-14T18:43:38.888972",
     "status": "completed"
    },
    "tags": []
   },
   "outputs": [],
   "source": [
    "# embeddings=np.load(\"/kaggle/input/adobe-test-embeddings/content-test-company.npy\")"
   ]
  },
  {
   "cell_type": "code",
   "execution_count": 8,
   "id": "66ad3c73",
   "metadata": {
    "execution": {
     "iopub.execute_input": "2023-12-14T18:43:38.919044Z",
     "iopub.status.busy": "2023-12-14T18:43:38.918689Z",
     "iopub.status.idle": "2023-12-14T18:43:39.741250Z",
     "shell.execute_reply": "2023-12-14T18:43:39.739457Z"
    },
    "papermill": {
     "duration": 0.832717,
     "end_time": "2023-12-14T18:43:39.744060",
     "exception": false,
     "start_time": "2023-12-14T18:43:38.911343",
     "status": "completed"
    },
    "tags": []
   },
   "outputs": [],
   "source": [
    "embeddings=np.load(\"/kaggle/input/adobe-test-embeddings/content-test-time.npy\")"
   ]
  },
  {
   "cell_type": "code",
   "execution_count": 9,
   "id": "c360cb90",
   "metadata": {
    "execution": {
     "iopub.execute_input": "2023-12-14T18:43:39.759514Z",
     "iopub.status.busy": "2023-12-14T18:43:39.759150Z",
     "iopub.status.idle": "2023-12-14T18:43:39.765532Z",
     "shell.execute_reply": "2023-12-14T18:43:39.764447Z"
    },
    "papermill": {
     "duration": 0.016295,
     "end_time": "2023-12-14T18:43:39.767278",
     "exception": false,
     "start_time": "2023-12-14T18:43:39.750983",
     "status": "completed"
    },
    "tags": []
   },
   "outputs": [],
   "source": [
    "# embeddings = np.load(\"/kaggle/input/adobe-test-embeddings/full-content-test-company.npy\")"
   ]
  },
  {
   "cell_type": "code",
   "execution_count": 10,
   "id": "5a35866f",
   "metadata": {
    "execution": {
     "iopub.execute_input": "2023-12-14T18:43:39.783185Z",
     "iopub.status.busy": "2023-12-14T18:43:39.781250Z",
     "iopub.status.idle": "2023-12-14T18:43:39.786842Z",
     "shell.execute_reply": "2023-12-14T18:43:39.785599Z"
    },
    "papermill": {
     "duration": 0.015519,
     "end_time": "2023-12-14T18:43:39.789341",
     "exception": false,
     "start_time": "2023-12-14T18:43:39.773822",
     "status": "completed"
    },
    "tags": []
   },
   "outputs": [],
   "source": [
    "# embeddings=np.load(\"/kaggle/input/adobe-test-embeddings/full-content-test-time.npy\")"
   ]
  },
  {
   "cell_type": "code",
   "execution_count": 11,
   "id": "9fdbf8de",
   "metadata": {
    "execution": {
     "iopub.execute_input": "2023-12-14T18:43:39.806391Z",
     "iopub.status.busy": "2023-12-14T18:43:39.804561Z",
     "iopub.status.idle": "2023-12-14T18:43:39.811546Z",
     "shell.execute_reply": "2023-12-14T18:43:39.810510Z"
    },
    "papermill": {
     "duration": 0.017254,
     "end_time": "2023-12-14T18:43:39.813827",
     "exception": false,
     "start_time": "2023-12-14T18:43:39.796573",
     "status": "completed"
    },
    "tags": []
   },
   "outputs": [],
   "source": [
    "#making the column called class which will contain the predicted class\n",
    "preds['class']=preds['classByBertTweetClassifier_time']"
   ]
  },
  {
   "cell_type": "markdown",
   "id": "535b6a00",
   "metadata": {},
   "source": [
    "Prediction of Likes"
   ]
  },
  {
   "cell_type": "code",
   "execution_count": null,
   "id": "b445e805",
   "metadata": {
    "execution": {
     "iopub.execute_input": "2023-12-14T18:43:39.831195Z",
     "iopub.status.busy": "2023-12-14T18:43:39.830044Z",
     "iopub.status.idle": "2023-12-14T18:55:04.676785Z",
     "shell.execute_reply": "2023-12-14T18:55:04.674969Z"
    },
    "papermill": {
     "duration": 684.858274,
     "end_time": "2023-12-14T18:55:04.679771",
     "exception": false,
     "start_time": "2023-12-14T18:43:39.821497",
     "status": "completed"
    },
    "tags": []
   },
   "outputs": [],
   "source": [
    "for _, tweet in preds.iterrows():\n",
    "    if tweet['class'] == \"0-100\":\n",
    "        pred = reg_0_100.predict(embeddings[tweet['index']].reshape(1, -1))\n",
    "        preds.at[_, 'predicted_likes'] = pred[0]\n",
    "    elif tweet['class'] == \"100-1000\":\n",
    "        pred = reg_100_1000.predict(embeddings[tweet['index']].reshape(1, -1))\n",
    "        preds.at[_, 'predicted_likes'] = pred[0]\n",
    "    elif tweet['class'] == \"1000-5000\":\n",
    "        pred = reg_1000_5000.predict(embeddings[tweet['index']].reshape(1, -1))\n",
    "        preds.at[_, 'predicted_likes'] = pred[0]\n",
    "    elif tweet['class'] == \"5000-10000\":\n",
    "        pred = reg_5000_10000.predict(embeddings[tweet['index']].reshape(1, -1))\n",
    "        preds.at[_, 'predicted_likes'] = pred[0]\n",
    "    elif tweet['class'] == \"10000-100000\":\n",
    "        pred = reg_10000_100000.predict(embeddings[tweet['index']].reshape(1, -1))\n",
    "        preds.at[_, 'predicted_likes'] = pred[0]\n",
    "    elif tweet['class'] == \"100000-1000000\":\n",
    "        pred = reg_100000_1000000.predict(embeddings[tweet['index']].reshape(1, -1))\n",
    "        preds.at[_, 'predicted_likes'] = pred[0]\n"
   ]
  },
  {
   "cell_type": "markdown",
   "id": "6794c3bc",
   "metadata": {},
   "source": [
    "Converting into a CSV"
   ]
  },
  {
   "cell_type": "code",
   "execution_count": 15,
   "id": "349a3314",
   "metadata": {
    "execution": {
     "iopub.execute_input": "2023-12-14T18:55:12.304059Z",
     "iopub.status.busy": "2023-12-14T18:55:12.303671Z",
     "iopub.status.idle": "2023-12-14T18:55:12.334417Z",
     "shell.execute_reply": "2023-12-14T18:55:12.332970Z"
    },
    "papermill": {
     "duration": 1.332244,
     "end_time": "2023-12-14T18:55:12.337229",
     "exception": false,
     "start_time": "2023-12-14T18:55:11.004985",
     "status": "completed"
    },
    "tags": []
   },
   "outputs": [],
   "source": [
    "# Save the modified DataFrame to a new CSV file\n",
    "preds.to_csv('m2-bert-classifier-time.csv', index=False)\n"
   ]
  }
 ],
 "metadata": {
  "kaggle": {
   "accelerator": "none",
   "dataSources": [
    {
     "datasetId": 4164521,
     "sourceId": 7200238,
     "sourceType": "datasetVersion"
    },
    {
     "datasetId": 4164886,
     "sourceId": 7201252,
     "sourceType": "datasetVersion"
    },
    {
     "datasetId": 4164899,
     "sourceId": 7201997,
     "sourceType": "datasetVersion"
    },
    {
     "datasetId": 4166876,
     "sourceId": 7203040,
     "sourceType": "datasetVersion"
    }
   ],
   "dockerImageVersionId": 30626,
   "isGpuEnabled": false,
   "isInternetEnabled": true,
   "language": "python",
   "sourceType": "notebook"
  },
  "kernelspec": {
   "display_name": "Python 3",
   "language": "python",
   "name": "python3"
  },
  "language_info": {
   "codemirror_mode": {
    "name": "ipython",
    "version": 3
   },
   "file_extension": ".py",
   "mimetype": "text/x-python",
   "name": "python",
   "nbconvert_exporter": "python",
   "pygments_lexer": "ipython3",
   "version": "3.10.12"
  },
  "papermill": {
   "default_parameters": {},
   "duration": 750.004288,
   "end_time": "2023-12-14T18:55:48.384451",
   "environment_variables": {},
   "exception": null,
   "input_path": "__notebook__.ipynb",
   "output_path": "__notebook__.ipynb",
   "parameters": {},
   "start_time": "2023-12-14T18:43:18.380163",
   "version": "2.4.0"
  }
 },
 "nbformat": 4,
 "nbformat_minor": 5
}
